{
  "nbformat": 4,
  "nbformat_minor": 0,
  "metadata": {
    "colab": {
      "name": "DataExploration.ipynb",
      "provenance": [],
      "collapsed_sections": []
    },
    "kernelspec": {
      "name": "python3",
      "display_name": "Python 3"
    }
  },
  "cells": [
    {
      "cell_type": "code",
      "metadata": {
        "id": "RmSa-bkPs7LC",
        "colab_type": "code",
        "colab": {}
      },
      "source": [
        "import pandas as pd\n",
        "import plotly.graph_objects as go\n",
        "import plotly.express as px\n",
        "import random"
      ],
      "execution_count": null,
      "outputs": []
    },
    {
      "cell_type": "markdown",
      "metadata": {
        "id": "66fiY-rpPoLi",
        "colab_type": "text"
      },
      "source": [
        "### Reading the original dataset"
      ]
    },
    {
      "cell_type": "code",
      "metadata": {
        "id": "MOL0PmpDs8_V",
        "colab_type": "code",
        "colab": {
          "base_uri": "https://localhost:8080/",
          "height": 542
        },
        "outputId": "878d04c9-aa98-463e-924a-3037a47fe55f"
      },
      "source": [
        "df = pd.read_csv('./data/CCMLEmployeeData.csv')\n",
        "fig = go.Figure(data=[go.Table(\n",
        "    header=dict(values=list(df.columns),\n",
        "                fill_color='paleturquoise',\n",
        "                align='left'),\n",
        "    cells=dict(values=[df.Name, df.Domain, df.Event1, df.Event2],\n",
        "               fill_color='lavender',\n",
        "               align='left'))\n",
        "])\n",
        "\n",
        "fig.show()"
      ],
      "execution_count": null,
      "outputs": [
        {
          "output_type": "display_data",
          "data": {
            "text/html": [
              "<html>\n",
              "<head><meta charset=\"utf-8\" /></head>\n",
              "<body>\n",
              "    <div>\n",
              "            <script src=\"https://cdnjs.cloudflare.com/ajax/libs/mathjax/2.7.5/MathJax.js?config=TeX-AMS-MML_SVG\"></script><script type=\"text/javascript\">if (window.MathJax) {MathJax.Hub.Config({SVG: {font: \"STIX-Web\"}});}</script>\n",
              "                <script type=\"text/javascript\">window.PlotlyConfig = {MathJaxConfig: 'local'};</script>\n",
              "        <script src=\"https://cdn.plot.ly/plotly-latest.min.js\"></script>    \n",
              "            <div id=\"3a4add24-8b7e-4daf-ba89-1af9bae2a492\" class=\"plotly-graph-div\" style=\"height:525px; width:100%;\"></div>\n",
              "            <script type=\"text/javascript\">\n",
              "                \n",
              "                    window.PLOTLYENV=window.PLOTLYENV || {};\n",
              "                    \n",
              "                if (document.getElementById(\"3a4add24-8b7e-4daf-ba89-1af9bae2a492\")) {\n",
              "                    Plotly.newPlot(\n",
              "                        '3a4add24-8b7e-4daf-ba89-1af9bae2a492',\n",
              "                        [{\"cells\": {\"align\": \"left\", \"fill\": {\"color\": \"lavender\"}, \"values\": [[\"Bryan Brock\", \"Joseph Sullivan\", \"Sherri Dawson\", \"Dustin Ferguson\", \"Kayla Young\", \"Angela Stokes\", \"Curtis Ortega\", \"Andrew Cox\", \"Russell Vargas\", \"David Foster\", \"Pamela Burton\", \"Joshua Miller\", \"Deborah Young\", \"Ann Morris\", \"David Cox\", \"Chelsea Smith\", \"Corey Beck\", \"Lisa Roberts\", \"Christine Potter\", \"Valerie Yang\", \"Brian Powell\", \"David Davis\", \"Jacqueline Houston\", \"Andrew Rodriguez\", \"Kayla Williams\", \"Erika Ross\", \"Jessica Silva\", \"Kristine Clark\", \"Daniel Barnett\", \"Andrew Terry\", \"Bryan Martin\", \"Donna Hansen\", \"Kevin Robbins\", \"Kenneth Martinez\", \"Melinda West\", \"James Burns\", \"Julian Sanders\", \"Brandon Carlson\", \"Melissa Brown\", \"Alexander Barr\", \"Beverly Mcguire\", \"Ernest Pierce\", \"Javier Leblanc\", \"Cassandra Meza\", \"Colin Davis\", \"Brittney Copeland\", \"Philip Woods\", \"Michelle Miller\", \"Diana Thomas\", \"Angela Hall\", \"Christopher Jones\", \"Gary Sanchez\", \"Christian Odom\", \"Jennifer Smith\", \"Andrea Thompson\", \"Anthony Williams\", \"Kathryn Odom\", \"Daniel Orozco\", \"Cameron Pena\", \"Christopher Hernandez\", \"Edward Hampton\", \"James Raymond\", \"William Rosales\", \"Michele Campbell\", \"Jessica Boyd\", \"Michael Alvarado\", \"Jonathan Fowler\", \"Laura Hurst\", \"Valerie Snow\", \"Bernard Friedman\", \"Joshua Calhoun\", \"Karen Baker\", \"Brian Patterson\", \"Valerie Peterson\", \"Michael Baird\", \"Kelli Hodges\", \"Brian Hamilton\", \"Glenn Martinez\", \"Allison Robinson\", \"Virginia Lucas\", \"Carol Larson\", \"Justin Copeland\", \"Anna Young\", \"Peter Wood\", \"John Pearson\", \"Antonio Nelson\", \"Adam Richards\", \"Matthew Martinez\", \"Tracy Alexander\", \"Janice Leonard\", \"Dennis Ramirez\", \"Mrs. Alexa Henson MD\", \"Tracy Wilson\", \"Beverly Hayes\", \"Kristy Levine\", \"Tracy Mejia\", \"Corey Moran\", \"Edwin Bowman\", \"Michael West\", \"William Sandoval\", \"Mrs. Marissa Dixon\", \"Teresa Riley\", \"Daniel Lopez\", \"Thomas Thompson\", \"Jessica Lee\", \"Wyatt Cruz\", \"Tanya Armstrong\", \"Michael Parrish\", \"Samantha Mcdowell\", \"Jennifer Merritt\", \"James Porter\", \"Aaron Black\", \"Mr. Charles Saunders DDS\", \"Bryan Mann\", \"Jasmine Brown\", \"William Anderson\", \"Mary Lewis\", \"Samuel Johnston\", \"Laura Wood\", \"Robert Burton\", \"Rebecca Kelley\", \"Sherry Jensen\", \"John Phillips\", \"Heather Frazier\", \"Christopher Myers\", \"Sharon Mitchell\", \"Sharon Buckley\", \"Mark Rogers\", \"Lisa Thomas\", \"Katherine Gonzalez\", \"Jose Allen\", \"Brandi Perez\", \"Kenneth Jackson\", \"Courtney Evans\", \"Robert Ramirez\", \"Kenneth Diaz\", \"Matthew Graham\", \"Marissa Dawson\", \"Susan Bailey\", \"Michael Smith\", \"Alyssa Davis\", \"Julia Park\", \"Stacy Jones\", \"John Jackson\", \"Dana Bryant\", \"Gail Duran\", \"Micheal Brown\", \"Kristina Rowland\", \"Derek Schmidt\", \"Benjamin Hall\", \"Gina Diaz\", \"Russell Hall\", \"Jennifer Thompson\", \"Lauren Martin\", \"Patricia Miller\", \"Stacy French\", \"Eric Townsend\", \"Barbara Mcguire\", \"Michael Rowe\", \"Melissa Harris\", \"Anthony Wilkinson\", \"Mrs. Brenda Scott\", \"James Cole\", \"Kristen Mitchell\", \"Todd Smith\", \"Melissa Diaz\", \"Jennifer Walker\", \"Ashley Rodriguez\", \"Andre Elliott\", \"Maureen Gross\", \"Jason Anthony\", \"Brandon Molina\", \"Jessica Terrell\", \"Charles Parker\", \"Daniel Johnson\", \"Robert Sanchez\", \"Christina Carter\", \"Andre Mcclure\", \"Katelyn Barnes\", \"Gabriel Cruz\", \"Christina Williams\", \"William Turner\", \"Damon Lane\"], [\"Management\", \"Coding\", \"Security\", \"Hardware\", \"Web Development\", \"Higher Education\", \"IoT\", \"Coding\", \"Java\", \"Security\", \"Web Development\", \"Management\", \"Artificial Intelligence\", \"Management\", \"Python\", \"Python\", \"Artificial Intelligence\", \"Finance\", \"Mobile Applications\", \"Higher Education\", \"C++\", \"Software Architecture\", \"Web Development\", \"Python\", \"IoT\", \"Mobile Applications\", \"Finance\", \"Higher Education\", \"Java\", \"Other\", \"Other\", \"Management\", \"Security\", \"Other\", \"C\", \"Java\", \"Cloud Computing\", \"Other\", \"Python\", \"C++\", \"Security\", \"Security\", \"C\", \"Networking\", \"JavaScript\", \"IoT\", \"Hardware\", \"Artificial Intelligence\", \"Mobile Applications\", \"Machine Learning\", \"Blockchain\", \"JavaScript\", \"Machine Learning\", \"Higher Education\", \"Finance\", \"Networking\", \"Cloud Computing\", \"Java\", \"JavaScript\", \"C\", \"Java\", \"Java\", \"Finance\", \"JavaScript\", \"Python\", \"Python\", \"IoT\", \"Coding\", \"Networking\", \"Finance\", \"Cloud Computing\", \"Coding\", \"Software Architecture\", \"IoT\", \"Blockchain\", \"Java\", \"Blockchain\", \"Development Processes\", \"C\", \"Software Architecture\", \"Python\", \"Web Development\", \"Security\", \"Cloud Computing\", \"C++\", \"Cloud Computing\", \"Data Science\", \"Machine Learning\", \"JavaScript\", \"Web Development\", \"IoT\", \"Blockchain\", \"Cloud Computing\", \"C\", \"Python\", \"Mobile Applications\", \"Coding\", \"Management\", \"Web Development\", \"Networking\", \"Security\", \"C\", \"Management\", \"Python\", \"Software Architecture\", \"Networking\", \"Hardware\", \"C++\", \"Cloud Computing\", \"Other\", \"Blockchain\", \"Security\", \"Networking\", \"Coding\", \"Machine Learning\", \"Higher Education\", \"Coding\", \"Finance\", \"C++\", \"Management\", \"Hardware\", \"Development Processes\", \"Cloud Computing\", \"Other\", \"Java\", \"Machine Learning\", \"IoT\", \"Python\", \"IoT\", \"Development Processes\", \"Higher Education\", \"IoT\", \"Coding\", \"Blockchain\", \"Other\", \"Networking\", \"Management\", \"Security\", \"Mobile Applications\", \"Data Science\", \"Cloud Computing\", \"Blockchain\", \"Machine Learning\", \"Blockchain\", \"Development Processes\", \"C++\", \"Web Development\", \"Cloud Computing\", \"Management\", \"Security\", \"C\", \"Finance\", \"Development Processes\", \"Mobile Applications\", \"Mobile Applications\", \"Java\", \"Mobile Applications\", \"Blockchain\", \"C++\", \"Other\", \"Networking\", \"Other\", \"Finance\", \"Development Processes\", \"Other\", \"Machine Learning\", \"Mobile Applications\", \"Security\", \"Coding\", \"C++\", \"Development Processes\", \"Higher Education\", \"Data Science\", \"Cloud Computing\", \"Data Science\", \"Management\", \"Networking\", \"Finance\", \"Coding\", \"Other\", \"Software Architecture\", \"Development Processes\", \"C\"], [\"Jobs\", \"Certifications\", \"Internships\", \"Competitions\", \"Expos\", \"Workshops\", \"Certifications\", \"Jobs\", \"Trainings\", \"Certifications\", \"Internships\", \"Jobs\", \"Expos\", \"Seminars\", \"Hackathons\", \"Workshops\", \"Competitions\", \"Fests\", \"Certifications\", \"Internships\", \"Fests\", \"Seminars\", \"Trainings\", \"Seminars\", \"Expos\", \"Competitions\", \"Workshops\", \"Competitions\", \"Seminars\", \"Seminars\", \"Trainings\", \"Trainings\", \"Talks\", \"Webinars\", \"Expos\", \"Expos\", \"Hackathons\", \"Talks\", \"Courses\", \"Talks\", \"Competitions\", \"Certifications\", \"Hackathons\", \"Competitions\", \"Jobs\", \"Internships\", \"Workshops\", \"Workshops\", \"Talks\", \"Fests\", \"Fests\", \"Internships\", \"Webinars\", \"Competitions\", \"Trainings\", \"Talks\", \"Talks\", \"Courses\", \"Expos\", \"Talks\", \"Trainings\", \"Expos\", \"Seminars\", \"Competitions\", \"Talks\", \"Webinars\", \"Webinars\", \"Jobs\", \"Competitions\", \"Competitions\", \"Workshops\", \"Internships\", \"Internships\", \"Hackathons\", \"Internships\", \"Certifications\", \"Certifications\", \"Certifications\", \"Fests\", \"Certifications\", \"Webinars\", \"Internships\", \"Jobs\", \"Courses\", \"Courses\", \"Expos\", \"Hackathons\", \"Internships\", \"Trainings\", \"Workshops\", \"Courses\", \"Workshops\", \"Trainings\", \"Seminars\", \"Jobs\", \"Competitions\", \"Seminars\", \"Courses\", \"Trainings\", \"Fests\", \"Seminars\", \"Hackathons\", \"Hackathons\", \"Fests\", \"Workshops\", \"Certifications\", \"Competitions\", \"Jobs\", \"Workshops\", \"Expos\", \"Seminars\", \"Workshops\", \"Webinars\", \"Competitions\", \"Expos\", \"Trainings\", \"Webinars\", \"Hackathons\", \"Workshops\", \"Fests\", \"Internships\", \"Fests\", \"Workshops\", \"Jobs\", \"Competitions\", \"Internships\", \"Trainings\", \"Hackathons\", \"Trainings\", \"Webinars\", \"Expos\", \"Expos\", \"Expos\", \"Hackathons\", \"Expos\", \"Jobs\", \"Expos\", \"Talks\", \"Internships\", \"Talks\", \"Seminars\", \"Trainings\", \"Internships\", \"Expos\", \"Jobs\", \"Internships\", \"Expos\", \"Fests\", \"Jobs\", \"Competitions\", \"Competitions\", \"Trainings\", \"Expos\", \"Jobs\", \"Competitions\", \"Webinars\", \"Certifications\", \"Talks\", \"Internships\", \"Webinars\", \"Hackathons\", \"Webinars\", \"Internships\", \"Expos\", \"Certifications\", \"Jobs\", \"Fests\", \"Hackathons\", \"Fests\", \"Talks\", \"Seminars\", \"Competitions\", \"Expos\", \"Expos\", \"Internships\", \"Expos\", \"Internships\", \"Seminars\", \"Courses\", \"Talks\", \"Talks\", \"Trainings\", \"Seminars\"], [\"Hackathons\", \"Webinars\", \"Fests\", \"Webinars\", \"Certifications\", \"Seminars\", \"Courses\", \"Certifications\", \"Expos\", \"Courses\", \"Fests\", \"Certifications\", \"Webinars\", \"Expos\", \"Jobs\", \"Seminars\", \"Trainings\", \"Certifications\", \"Courses\", \"Seminars\", \"Internships\", \"Competitions\", \"Seminars\", \"Internships\", \"Internships\", \"Expos\", \"Seminars\", \"Fests\", \"Certifications\", \"Jobs\", \"Competitions\", \"Expos\", \"Trainings\", \"Certifications\", \"Internships\", \"Fests\", \"Courses\", \"Jobs\", \"Expos\", \"Seminars\", \"Internships\", \"Talks\", \"Courses\", \"Certifications\", \"Seminars\", \"Courses\", \"Jobs\", \"Courses\", \"Expos\", \"Hackathons\", \"Hackathons\", \"Seminars\", \"Fests\", \"Talks\", \"Jobs\", \"Expos\", \"Jobs\", \"Talks\", \"Competitions\", \"Seminars\", \"Seminars\", \"Trainings\", \"Fests\", \"Courses\", \"Certifications\", \"Courses\", \"Hackathons\", \"Hackathons\", \"Certifications\", \"Internships\", \"Internships\", \"Fests\", \"Fests\", \"Fests\", \"Workshops\", \"Webinars\", \"Competitions\", \"Talks\", \"Expos\", \"Hackathons\", \"Competitions\", \"Competitions\", \"Internships\", \"Webinars\", \"Webinars\", \"Internships\", \"Jobs\", \"Hackathons\", \"Competitions\", \"Competitions\", \"Internships\", \"Courses\", \"Jobs\", \"Competitions\", \"Workshops\", \"Courses\", \"Webinars\", \"Jobs\", \"Courses\", \"Internships\", \"Workshops\", \"Expos\", \"Jobs\", \"Workshops\", \"Internships\", \"Jobs\", \"Webinars\", \"Seminars\", \"Internships\", \"Courses\", \"Jobs\", \"Jobs\", \"Internships\", \"Expos\", \"Internships\", \"Workshops\", \"Talks\", \"Competitions\", \"Hackathons\", \"Trainings\", \"Trainings\", \"Hackathons\", \"Seminars\", \"Competitions\", \"Internships\", \"Competitions\", \"Expos\", \"Workshops\", \"Expos\", \"Courses\", \"Fests\", \"Talks\", \"Competitions\", \"Workshops\", \"Courses\", \"Talks\", \"Talks\", \"Internships\", \"Talks\", \"Jobs\", \"Talks\", \"Courses\", \"Fests\", \"Certifications\", \"Expos\", \"Jobs\", \"Certifications\", \"Competitions\", \"Hackathons\", \"Jobs\", \"Workshops\", \"Internships\", \"Trainings\", \"Seminars\", \"Seminars\", \"Certifications\", \"Trainings\", \"Hackathons\", \"Courses\", \"Fests\", \"Competitions\", \"Certifications\", \"Fests\", \"Fests\", \"Seminars\", \"Trainings\", \"Talks\", \"Expos\", \"Talks\", \"Workshops\", \"Courses\", \"Fests\", \"Fests\", \"Webinars\", \"Hackathons\", \"Webinars\", \"Competitions\", \"Trainings\", \"Webinars\", \"Fests\", \"Fests\", \"Seminars\", \"Internships\"]]}, \"header\": {\"align\": \"left\", \"fill\": {\"color\": \"paleturquoise\"}, \"values\": [\"Name\", \"Domain\", \"Event1\", \"Event2\"]}, \"type\": \"table\"}],\n",
              "                        {\"template\": {\"data\": {\"bar\": [{\"error_x\": {\"color\": \"#2a3f5f\"}, \"error_y\": {\"color\": \"#2a3f5f\"}, \"marker\": {\"line\": {\"color\": \"#E5ECF6\", \"width\": 0.5}}, \"type\": \"bar\"}], \"barpolar\": [{\"marker\": {\"line\": {\"color\": \"#E5ECF6\", \"width\": 0.5}}, \"type\": \"barpolar\"}], \"carpet\": [{\"aaxis\": {\"endlinecolor\": \"#2a3f5f\", \"gridcolor\": \"white\", \"linecolor\": \"white\", \"minorgridcolor\": \"white\", \"startlinecolor\": \"#2a3f5f\"}, \"baxis\": {\"endlinecolor\": \"#2a3f5f\", \"gridcolor\": \"white\", \"linecolor\": \"white\", \"minorgridcolor\": \"white\", \"startlinecolor\": \"#2a3f5f\"}, \"type\": \"carpet\"}], \"choropleth\": [{\"colorbar\": {\"outlinewidth\": 0, \"ticks\": \"\"}, \"type\": \"choropleth\"}], \"contour\": [{\"colorbar\": {\"outlinewidth\": 0, \"ticks\": \"\"}, \"colorscale\": [[0.0, \"#0d0887\"], [0.1111111111111111, \"#46039f\"], [0.2222222222222222, \"#7201a8\"], [0.3333333333333333, \"#9c179e\"], [0.4444444444444444, \"#bd3786\"], [0.5555555555555556, \"#d8576b\"], [0.6666666666666666, \"#ed7953\"], [0.7777777777777778, \"#fb9f3a\"], [0.8888888888888888, \"#fdca26\"], [1.0, \"#f0f921\"]], \"type\": \"contour\"}], \"contourcarpet\": [{\"colorbar\": {\"outlinewidth\": 0, \"ticks\": \"\"}, \"type\": \"contourcarpet\"}], \"heatmap\": [{\"colorbar\": {\"outlinewidth\": 0, \"ticks\": \"\"}, \"colorscale\": [[0.0, \"#0d0887\"], [0.1111111111111111, \"#46039f\"], [0.2222222222222222, \"#7201a8\"], [0.3333333333333333, \"#9c179e\"], [0.4444444444444444, \"#bd3786\"], [0.5555555555555556, \"#d8576b\"], [0.6666666666666666, \"#ed7953\"], [0.7777777777777778, \"#fb9f3a\"], [0.8888888888888888, \"#fdca26\"], [1.0, \"#f0f921\"]], \"type\": \"heatmap\"}], \"heatmapgl\": [{\"colorbar\": {\"outlinewidth\": 0, \"ticks\": \"\"}, \"colorscale\": [[0.0, \"#0d0887\"], [0.1111111111111111, \"#46039f\"], [0.2222222222222222, \"#7201a8\"], [0.3333333333333333, \"#9c179e\"], [0.4444444444444444, \"#bd3786\"], [0.5555555555555556, \"#d8576b\"], [0.6666666666666666, \"#ed7953\"], [0.7777777777777778, \"#fb9f3a\"], [0.8888888888888888, \"#fdca26\"], [1.0, \"#f0f921\"]], \"type\": \"heatmapgl\"}], \"histogram\": [{\"marker\": {\"colorbar\": {\"outlinewidth\": 0, \"ticks\": \"\"}}, \"type\": \"histogram\"}], \"histogram2d\": [{\"colorbar\": {\"outlinewidth\": 0, \"ticks\": \"\"}, \"colorscale\": [[0.0, \"#0d0887\"], [0.1111111111111111, \"#46039f\"], [0.2222222222222222, \"#7201a8\"], [0.3333333333333333, \"#9c179e\"], [0.4444444444444444, \"#bd3786\"], [0.5555555555555556, \"#d8576b\"], [0.6666666666666666, \"#ed7953\"], [0.7777777777777778, \"#fb9f3a\"], [0.8888888888888888, \"#fdca26\"], [1.0, \"#f0f921\"]], \"type\": \"histogram2d\"}], \"histogram2dcontour\": [{\"colorbar\": {\"outlinewidth\": 0, \"ticks\": \"\"}, \"colorscale\": [[0.0, \"#0d0887\"], [0.1111111111111111, \"#46039f\"], [0.2222222222222222, \"#7201a8\"], [0.3333333333333333, \"#9c179e\"], [0.4444444444444444, \"#bd3786\"], [0.5555555555555556, \"#d8576b\"], [0.6666666666666666, \"#ed7953\"], [0.7777777777777778, \"#fb9f3a\"], [0.8888888888888888, \"#fdca26\"], [1.0, \"#f0f921\"]], \"type\": \"histogram2dcontour\"}], \"mesh3d\": [{\"colorbar\": {\"outlinewidth\": 0, \"ticks\": \"\"}, \"type\": \"mesh3d\"}], \"parcoords\": [{\"line\": {\"colorbar\": {\"outlinewidth\": 0, \"ticks\": \"\"}}, \"type\": \"parcoords\"}], \"pie\": [{\"automargin\": true, \"type\": \"pie\"}], \"scatter\": [{\"marker\": {\"colorbar\": {\"outlinewidth\": 0, \"ticks\": \"\"}}, \"type\": \"scatter\"}], \"scatter3d\": [{\"line\": {\"colorbar\": {\"outlinewidth\": 0, \"ticks\": \"\"}}, \"marker\": {\"colorbar\": {\"outlinewidth\": 0, \"ticks\": \"\"}}, \"type\": \"scatter3d\"}], \"scattercarpet\": [{\"marker\": {\"colorbar\": {\"outlinewidth\": 0, \"ticks\": \"\"}}, \"type\": \"scattercarpet\"}], \"scattergeo\": [{\"marker\": {\"colorbar\": {\"outlinewidth\": 0, \"ticks\": \"\"}}, \"type\": \"scattergeo\"}], \"scattergl\": [{\"marker\": {\"colorbar\": {\"outlinewidth\": 0, \"ticks\": \"\"}}, \"type\": \"scattergl\"}], \"scattermapbox\": [{\"marker\": {\"colorbar\": {\"outlinewidth\": 0, \"ticks\": \"\"}}, \"type\": \"scattermapbox\"}], \"scatterpolar\": [{\"marker\": {\"colorbar\": {\"outlinewidth\": 0, \"ticks\": \"\"}}, \"type\": \"scatterpolar\"}], \"scatterpolargl\": [{\"marker\": {\"colorbar\": {\"outlinewidth\": 0, \"ticks\": \"\"}}, \"type\": \"scatterpolargl\"}], \"scatterternary\": [{\"marker\": {\"colorbar\": {\"outlinewidth\": 0, \"ticks\": \"\"}}, \"type\": \"scatterternary\"}], \"surface\": [{\"colorbar\": {\"outlinewidth\": 0, \"ticks\": \"\"}, \"colorscale\": [[0.0, \"#0d0887\"], [0.1111111111111111, \"#46039f\"], [0.2222222222222222, \"#7201a8\"], [0.3333333333333333, \"#9c179e\"], [0.4444444444444444, \"#bd3786\"], [0.5555555555555556, \"#d8576b\"], [0.6666666666666666, \"#ed7953\"], [0.7777777777777778, \"#fb9f3a\"], [0.8888888888888888, \"#fdca26\"], [1.0, \"#f0f921\"]], \"type\": \"surface\"}], \"table\": [{\"cells\": {\"fill\": {\"color\": \"#EBF0F8\"}, \"line\": {\"color\": \"white\"}}, \"header\": {\"fill\": {\"color\": \"#C8D4E3\"}, \"line\": {\"color\": \"white\"}}, \"type\": \"table\"}]}, \"layout\": {\"annotationdefaults\": {\"arrowcolor\": \"#2a3f5f\", \"arrowhead\": 0, \"arrowwidth\": 1}, \"coloraxis\": {\"colorbar\": {\"outlinewidth\": 0, \"ticks\": \"\"}}, \"colorscale\": {\"diverging\": [[0, \"#8e0152\"], [0.1, \"#c51b7d\"], [0.2, \"#de77ae\"], [0.3, \"#f1b6da\"], [0.4, \"#fde0ef\"], [0.5, \"#f7f7f7\"], [0.6, \"#e6f5d0\"], [0.7, \"#b8e186\"], [0.8, \"#7fbc41\"], [0.9, \"#4d9221\"], [1, \"#276419\"]], \"sequential\": [[0.0, \"#0d0887\"], [0.1111111111111111, \"#46039f\"], [0.2222222222222222, \"#7201a8\"], [0.3333333333333333, \"#9c179e\"], [0.4444444444444444, \"#bd3786\"], [0.5555555555555556, \"#d8576b\"], [0.6666666666666666, \"#ed7953\"], [0.7777777777777778, \"#fb9f3a\"], [0.8888888888888888, \"#fdca26\"], [1.0, \"#f0f921\"]], \"sequentialminus\": [[0.0, \"#0d0887\"], [0.1111111111111111, \"#46039f\"], [0.2222222222222222, \"#7201a8\"], [0.3333333333333333, \"#9c179e\"], [0.4444444444444444, \"#bd3786\"], [0.5555555555555556, \"#d8576b\"], [0.6666666666666666, \"#ed7953\"], [0.7777777777777778, \"#fb9f3a\"], [0.8888888888888888, \"#fdca26\"], [1.0, \"#f0f921\"]]}, \"colorway\": [\"#636efa\", \"#EF553B\", \"#00cc96\", \"#ab63fa\", \"#FFA15A\", \"#19d3f3\", \"#FF6692\", \"#B6E880\", \"#FF97FF\", \"#FECB52\"], \"font\": {\"color\": \"#2a3f5f\"}, \"geo\": {\"bgcolor\": \"white\", \"lakecolor\": \"white\", \"landcolor\": \"#E5ECF6\", \"showlakes\": true, \"showland\": true, \"subunitcolor\": \"white\"}, \"hoverlabel\": {\"align\": \"left\"}, \"hovermode\": \"closest\", \"mapbox\": {\"style\": \"light\"}, \"paper_bgcolor\": \"white\", \"plot_bgcolor\": \"#E5ECF6\", \"polar\": {\"angularaxis\": {\"gridcolor\": \"white\", \"linecolor\": \"white\", \"ticks\": \"\"}, \"bgcolor\": \"#E5ECF6\", \"radialaxis\": {\"gridcolor\": \"white\", \"linecolor\": \"white\", \"ticks\": \"\"}}, \"scene\": {\"xaxis\": {\"backgroundcolor\": \"#E5ECF6\", \"gridcolor\": \"white\", \"gridwidth\": 2, \"linecolor\": \"white\", \"showbackground\": true, \"ticks\": \"\", \"zerolinecolor\": \"white\"}, \"yaxis\": {\"backgroundcolor\": \"#E5ECF6\", \"gridcolor\": \"white\", \"gridwidth\": 2, \"linecolor\": \"white\", \"showbackground\": true, \"ticks\": \"\", \"zerolinecolor\": \"white\"}, \"zaxis\": {\"backgroundcolor\": \"#E5ECF6\", \"gridcolor\": \"white\", \"gridwidth\": 2, \"linecolor\": \"white\", \"showbackground\": true, \"ticks\": \"\", \"zerolinecolor\": \"white\"}}, \"shapedefaults\": {\"line\": {\"color\": \"#2a3f5f\"}}, \"ternary\": {\"aaxis\": {\"gridcolor\": \"white\", \"linecolor\": \"white\", \"ticks\": \"\"}, \"baxis\": {\"gridcolor\": \"white\", \"linecolor\": \"white\", \"ticks\": \"\"}, \"bgcolor\": \"#E5ECF6\", \"caxis\": {\"gridcolor\": \"white\", \"linecolor\": \"white\", \"ticks\": \"\"}}, \"title\": {\"x\": 0.05}, \"xaxis\": {\"automargin\": true, \"gridcolor\": \"white\", \"linecolor\": \"white\", \"ticks\": \"\", \"title\": {\"standoff\": 15}, \"zerolinecolor\": \"white\", \"zerolinewidth\": 2}, \"yaxis\": {\"automargin\": true, \"gridcolor\": \"white\", \"linecolor\": \"white\", \"ticks\": \"\", \"title\": {\"standoff\": 15}, \"zerolinecolor\": \"white\", \"zerolinewidth\": 2}}}},\n",
              "                        {\"responsive\": true}\n",
              "                    ).then(function(){\n",
              "                            \n",
              "var gd = document.getElementById('3a4add24-8b7e-4daf-ba89-1af9bae2a492');\n",
              "var x = new MutationObserver(function (mutations, observer) {{\n",
              "        var display = window.getComputedStyle(gd).display;\n",
              "        if (!display || display === 'none') {{\n",
              "            console.log([gd, 'removed!']);\n",
              "            Plotly.purge(gd);\n",
              "            observer.disconnect();\n",
              "        }}\n",
              "}});\n",
              "\n",
              "// Listen for the removal of the full notebook cells\n",
              "var notebookContainer = gd.closest('#notebook-container');\n",
              "if (notebookContainer) {{\n",
              "    x.observe(notebookContainer, {childList: true});\n",
              "}}\n",
              "\n",
              "// Listen for the clearing of the current output cell\n",
              "var outputEl = gd.closest('.output');\n",
              "if (outputEl) {{\n",
              "    x.observe(outputEl, {childList: true});\n",
              "}}\n",
              "\n",
              "                        })\n",
              "                };\n",
              "                \n",
              "            </script>\n",
              "        </div>\n",
              "</body>\n",
              "</html>"
            ]
          },
          "metadata": {
            "tags": []
          }
        }
      ]
    },
    {
      "cell_type": "code",
      "metadata": {
        "id": "hLTjIInztC5z",
        "colab_type": "code",
        "colab": {
          "base_uri": "https://localhost:8080/",
          "height": 542
        },
        "outputId": "3ae9b8d1-5247-4ffb-b94e-89534c2ced4f"
      },
      "source": [
        "# Plot the unique domians\n",
        "values = df['Domain'].value_counts().keys().tolist()\n",
        "counts = df['Domain'].value_counts().tolist()\n",
        "d = {'Domain' : values, 'Counts' : counts}\n",
        "domain_values = pd.DataFrame(d, columns=['Domain','Counts'])\n",
        "fig = px.pie(domain_values, values= 'Counts', names='Domain',\n",
        "             title='Value counts of Different Domains',\n",
        "             hover_data=['Counts'])\n",
        "fig.update_traces(textposition='inside', textinfo='percent+label')\n",
        "fig.show()"
      ],
      "execution_count": null,
      "outputs": [
        {
          "output_type": "display_data",
          "data": {
            "text/html": [
              "<html>\n",
              "<head><meta charset=\"utf-8\" /></head>\n",
              "<body>\n",
              "    <div>\n",
              "            <script src=\"https://cdnjs.cloudflare.com/ajax/libs/mathjax/2.7.5/MathJax.js?config=TeX-AMS-MML_SVG\"></script><script type=\"text/javascript\">if (window.MathJax) {MathJax.Hub.Config({SVG: {font: \"STIX-Web\"}});}</script>\n",
              "                <script type=\"text/javascript\">window.PlotlyConfig = {MathJaxConfig: 'local'};</script>\n",
              "        <script src=\"https://cdn.plot.ly/plotly-latest.min.js\"></script>    \n",
              "            <div id=\"6e5ab0bf-fb98-4ff3-ac50-e1318bc4cbd0\" class=\"plotly-graph-div\" style=\"height:525px; width:100%;\"></div>\n",
              "            <script type=\"text/javascript\">\n",
              "                \n",
              "                    window.PLOTLYENV=window.PLOTLYENV || {};\n",
              "                    \n",
              "                if (document.getElementById(\"6e5ab0bf-fb98-4ff3-ac50-e1318bc4cbd0\")) {\n",
              "                    Plotly.newPlot(\n",
              "                        '6e5ab0bf-fb98-4ff3-ac50-e1318bc4cbd0',\n",
              "                        [{\"customdata\": [[11], [11], [11], [10], [10], [10], [9], [9], [9], [9], [9], [9], [8], [8], [8], [7], [7], [7], [5], [5], [4], [4], [3]], \"domain\": {\"x\": [0.0, 1.0], \"y\": [0.0, 1.0]}, \"hoverlabel\": {\"namelength\": 0}, \"hovertemplate\": \"Counts=%{value}<br>Domain=%{label}\", \"labels\": [\"Other\", \"Security\", \"Cloud Computing\", \"Management\", \"Python\", \"Coding\", \"Networking\", \"IoT\", \"Mobile Applications\", \"Blockchain\", \"Finance\", \"Java\", \"C++\", \"C\", \"Development Processes\", \"Machine Learning\", \"Higher Education\", \"Web Development\", \"Software Architecture\", \"JavaScript\", \"Hardware\", \"Data Science\", \"Artificial Intelligence\"], \"legendgroup\": \"\", \"name\": \"\", \"showlegend\": true, \"textinfo\": \"percent+label\", \"textposition\": \"inside\", \"type\": \"pie\", \"values\": [11, 11, 11, 10, 10, 10, 9, 9, 9, 9, 9, 9, 8, 8, 8, 7, 7, 7, 5, 5, 4, 4, 3]}],\n",
              "                        {\"legend\": {\"tracegroupgap\": 0}, \"template\": {\"data\": {\"bar\": [{\"error_x\": {\"color\": \"#2a3f5f\"}, \"error_y\": {\"color\": \"#2a3f5f\"}, \"marker\": {\"line\": {\"color\": \"#E5ECF6\", \"width\": 0.5}}, \"type\": \"bar\"}], \"barpolar\": [{\"marker\": {\"line\": {\"color\": \"#E5ECF6\", \"width\": 0.5}}, \"type\": \"barpolar\"}], \"carpet\": [{\"aaxis\": {\"endlinecolor\": \"#2a3f5f\", \"gridcolor\": \"white\", \"linecolor\": \"white\", \"minorgridcolor\": \"white\", \"startlinecolor\": \"#2a3f5f\"}, \"baxis\": {\"endlinecolor\": \"#2a3f5f\", \"gridcolor\": \"white\", \"linecolor\": \"white\", \"minorgridcolor\": \"white\", \"startlinecolor\": \"#2a3f5f\"}, \"type\": \"carpet\"}], \"choropleth\": [{\"colorbar\": {\"outlinewidth\": 0, \"ticks\": \"\"}, \"type\": \"choropleth\"}], \"contour\": [{\"colorbar\": {\"outlinewidth\": 0, \"ticks\": \"\"}, \"colorscale\": [[0.0, \"#0d0887\"], [0.1111111111111111, \"#46039f\"], [0.2222222222222222, \"#7201a8\"], [0.3333333333333333, \"#9c179e\"], [0.4444444444444444, \"#bd3786\"], [0.5555555555555556, \"#d8576b\"], [0.6666666666666666, \"#ed7953\"], [0.7777777777777778, \"#fb9f3a\"], [0.8888888888888888, \"#fdca26\"], [1.0, \"#f0f921\"]], \"type\": \"contour\"}], \"contourcarpet\": [{\"colorbar\": {\"outlinewidth\": 0, \"ticks\": \"\"}, \"type\": \"contourcarpet\"}], \"heatmap\": [{\"colorbar\": {\"outlinewidth\": 0, \"ticks\": \"\"}, \"colorscale\": [[0.0, \"#0d0887\"], [0.1111111111111111, \"#46039f\"], [0.2222222222222222, \"#7201a8\"], [0.3333333333333333, \"#9c179e\"], [0.4444444444444444, \"#bd3786\"], [0.5555555555555556, \"#d8576b\"], [0.6666666666666666, \"#ed7953\"], [0.7777777777777778, \"#fb9f3a\"], [0.8888888888888888, \"#fdca26\"], [1.0, \"#f0f921\"]], \"type\": \"heatmap\"}], \"heatmapgl\": [{\"colorbar\": {\"outlinewidth\": 0, \"ticks\": \"\"}, \"colorscale\": [[0.0, \"#0d0887\"], [0.1111111111111111, \"#46039f\"], [0.2222222222222222, \"#7201a8\"], [0.3333333333333333, \"#9c179e\"], [0.4444444444444444, \"#bd3786\"], [0.5555555555555556, \"#d8576b\"], [0.6666666666666666, \"#ed7953\"], [0.7777777777777778, \"#fb9f3a\"], [0.8888888888888888, \"#fdca26\"], [1.0, \"#f0f921\"]], \"type\": \"heatmapgl\"}], \"histogram\": [{\"marker\": {\"colorbar\": {\"outlinewidth\": 0, \"ticks\": \"\"}}, \"type\": \"histogram\"}], \"histogram2d\": [{\"colorbar\": {\"outlinewidth\": 0, \"ticks\": \"\"}, \"colorscale\": [[0.0, \"#0d0887\"], [0.1111111111111111, \"#46039f\"], [0.2222222222222222, \"#7201a8\"], [0.3333333333333333, \"#9c179e\"], [0.4444444444444444, \"#bd3786\"], [0.5555555555555556, \"#d8576b\"], [0.6666666666666666, \"#ed7953\"], [0.7777777777777778, \"#fb9f3a\"], [0.8888888888888888, \"#fdca26\"], [1.0, \"#f0f921\"]], \"type\": \"histogram2d\"}], \"histogram2dcontour\": [{\"colorbar\": {\"outlinewidth\": 0, \"ticks\": \"\"}, \"colorscale\": [[0.0, \"#0d0887\"], [0.1111111111111111, \"#46039f\"], [0.2222222222222222, \"#7201a8\"], [0.3333333333333333, \"#9c179e\"], [0.4444444444444444, \"#bd3786\"], [0.5555555555555556, \"#d8576b\"], [0.6666666666666666, \"#ed7953\"], [0.7777777777777778, \"#fb9f3a\"], [0.8888888888888888, \"#fdca26\"], [1.0, \"#f0f921\"]], \"type\": \"histogram2dcontour\"}], \"mesh3d\": [{\"colorbar\": {\"outlinewidth\": 0, \"ticks\": \"\"}, \"type\": \"mesh3d\"}], \"parcoords\": [{\"line\": {\"colorbar\": {\"outlinewidth\": 0, \"ticks\": \"\"}}, \"type\": \"parcoords\"}], \"pie\": [{\"automargin\": true, \"type\": \"pie\"}], \"scatter\": [{\"marker\": {\"colorbar\": {\"outlinewidth\": 0, \"ticks\": \"\"}}, \"type\": \"scatter\"}], \"scatter3d\": [{\"line\": {\"colorbar\": {\"outlinewidth\": 0, \"ticks\": \"\"}}, \"marker\": {\"colorbar\": {\"outlinewidth\": 0, \"ticks\": \"\"}}, \"type\": \"scatter3d\"}], \"scattercarpet\": [{\"marker\": {\"colorbar\": {\"outlinewidth\": 0, \"ticks\": \"\"}}, \"type\": \"scattercarpet\"}], \"scattergeo\": [{\"marker\": {\"colorbar\": {\"outlinewidth\": 0, \"ticks\": \"\"}}, \"type\": \"scattergeo\"}], \"scattergl\": [{\"marker\": {\"colorbar\": {\"outlinewidth\": 0, \"ticks\": \"\"}}, \"type\": \"scattergl\"}], \"scattermapbox\": [{\"marker\": {\"colorbar\": {\"outlinewidth\": 0, \"ticks\": \"\"}}, \"type\": \"scattermapbox\"}], \"scatterpolar\": [{\"marker\": {\"colorbar\": {\"outlinewidth\": 0, \"ticks\": \"\"}}, \"type\": \"scatterpolar\"}], \"scatterpolargl\": [{\"marker\": {\"colorbar\": {\"outlinewidth\": 0, \"ticks\": \"\"}}, \"type\": \"scatterpolargl\"}], \"scatterternary\": [{\"marker\": {\"colorbar\": {\"outlinewidth\": 0, \"ticks\": \"\"}}, \"type\": \"scatterternary\"}], \"surface\": [{\"colorbar\": {\"outlinewidth\": 0, \"ticks\": \"\"}, \"colorscale\": [[0.0, \"#0d0887\"], [0.1111111111111111, \"#46039f\"], [0.2222222222222222, \"#7201a8\"], [0.3333333333333333, \"#9c179e\"], [0.4444444444444444, \"#bd3786\"], [0.5555555555555556, \"#d8576b\"], [0.6666666666666666, \"#ed7953\"], [0.7777777777777778, \"#fb9f3a\"], [0.8888888888888888, \"#fdca26\"], [1.0, \"#f0f921\"]], \"type\": \"surface\"}], \"table\": [{\"cells\": {\"fill\": {\"color\": \"#EBF0F8\"}, \"line\": {\"color\": \"white\"}}, \"header\": {\"fill\": {\"color\": \"#C8D4E3\"}, \"line\": {\"color\": \"white\"}}, \"type\": \"table\"}]}, \"layout\": {\"annotationdefaults\": {\"arrowcolor\": \"#2a3f5f\", \"arrowhead\": 0, \"arrowwidth\": 1}, \"coloraxis\": {\"colorbar\": {\"outlinewidth\": 0, \"ticks\": \"\"}}, \"colorscale\": {\"diverging\": [[0, \"#8e0152\"], [0.1, \"#c51b7d\"], [0.2, \"#de77ae\"], [0.3, \"#f1b6da\"], [0.4, \"#fde0ef\"], [0.5, \"#f7f7f7\"], [0.6, \"#e6f5d0\"], [0.7, \"#b8e186\"], [0.8, \"#7fbc41\"], [0.9, \"#4d9221\"], [1, \"#276419\"]], \"sequential\": [[0.0, \"#0d0887\"], [0.1111111111111111, \"#46039f\"], [0.2222222222222222, \"#7201a8\"], [0.3333333333333333, \"#9c179e\"], [0.4444444444444444, \"#bd3786\"], [0.5555555555555556, \"#d8576b\"], [0.6666666666666666, \"#ed7953\"], [0.7777777777777778, \"#fb9f3a\"], [0.8888888888888888, \"#fdca26\"], [1.0, \"#f0f921\"]], \"sequentialminus\": [[0.0, \"#0d0887\"], [0.1111111111111111, \"#46039f\"], [0.2222222222222222, \"#7201a8\"], [0.3333333333333333, \"#9c179e\"], [0.4444444444444444, \"#bd3786\"], [0.5555555555555556, \"#d8576b\"], [0.6666666666666666, \"#ed7953\"], [0.7777777777777778, \"#fb9f3a\"], [0.8888888888888888, \"#fdca26\"], [1.0, \"#f0f921\"]]}, \"colorway\": [\"#636efa\", \"#EF553B\", \"#00cc96\", \"#ab63fa\", \"#FFA15A\", \"#19d3f3\", \"#FF6692\", \"#B6E880\", \"#FF97FF\", \"#FECB52\"], \"font\": {\"color\": \"#2a3f5f\"}, \"geo\": {\"bgcolor\": \"white\", \"lakecolor\": \"white\", \"landcolor\": \"#E5ECF6\", \"showlakes\": true, \"showland\": true, \"subunitcolor\": \"white\"}, \"hoverlabel\": {\"align\": \"left\"}, \"hovermode\": \"closest\", \"mapbox\": {\"style\": \"light\"}, \"paper_bgcolor\": \"white\", \"plot_bgcolor\": \"#E5ECF6\", \"polar\": {\"angularaxis\": {\"gridcolor\": \"white\", \"linecolor\": \"white\", \"ticks\": \"\"}, \"bgcolor\": \"#E5ECF6\", \"radialaxis\": {\"gridcolor\": \"white\", \"linecolor\": \"white\", \"ticks\": \"\"}}, \"scene\": {\"xaxis\": {\"backgroundcolor\": \"#E5ECF6\", \"gridcolor\": \"white\", \"gridwidth\": 2, \"linecolor\": \"white\", \"showbackground\": true, \"ticks\": \"\", \"zerolinecolor\": \"white\"}, \"yaxis\": {\"backgroundcolor\": \"#E5ECF6\", \"gridcolor\": \"white\", \"gridwidth\": 2, \"linecolor\": \"white\", \"showbackground\": true, \"ticks\": \"\", \"zerolinecolor\": \"white\"}, \"zaxis\": {\"backgroundcolor\": \"#E5ECF6\", \"gridcolor\": \"white\", \"gridwidth\": 2, \"linecolor\": \"white\", \"showbackground\": true, \"ticks\": \"\", \"zerolinecolor\": \"white\"}}, \"shapedefaults\": {\"line\": {\"color\": \"#2a3f5f\"}}, \"ternary\": {\"aaxis\": {\"gridcolor\": \"white\", \"linecolor\": \"white\", \"ticks\": \"\"}, \"baxis\": {\"gridcolor\": \"white\", \"linecolor\": \"white\", \"ticks\": \"\"}, \"bgcolor\": \"#E5ECF6\", \"caxis\": {\"gridcolor\": \"white\", \"linecolor\": \"white\", \"ticks\": \"\"}}, \"title\": {\"x\": 0.05}, \"xaxis\": {\"automargin\": true, \"gridcolor\": \"white\", \"linecolor\": \"white\", \"ticks\": \"\", \"title\": {\"standoff\": 15}, \"zerolinecolor\": \"white\", \"zerolinewidth\": 2}, \"yaxis\": {\"automargin\": true, \"gridcolor\": \"white\", \"linecolor\": \"white\", \"ticks\": \"\", \"title\": {\"standoff\": 15}, \"zerolinecolor\": \"white\", \"zerolinewidth\": 2}}}, \"title\": {\"text\": \"Value counts of Different Domains\"}},\n",
              "                        {\"responsive\": true}\n",
              "                    ).then(function(){\n",
              "                            \n",
              "var gd = document.getElementById('6e5ab0bf-fb98-4ff3-ac50-e1318bc4cbd0');\n",
              "var x = new MutationObserver(function (mutations, observer) {{\n",
              "        var display = window.getComputedStyle(gd).display;\n",
              "        if (!display || display === 'none') {{\n",
              "            console.log([gd, 'removed!']);\n",
              "            Plotly.purge(gd);\n",
              "            observer.disconnect();\n",
              "        }}\n",
              "}});\n",
              "\n",
              "// Listen for the removal of the full notebook cells\n",
              "var notebookContainer = gd.closest('#notebook-container');\n",
              "if (notebookContainer) {{\n",
              "    x.observe(notebookContainer, {childList: true});\n",
              "}}\n",
              "\n",
              "// Listen for the clearing of the current output cell\n",
              "var outputEl = gd.closest('.output');\n",
              "if (outputEl) {{\n",
              "    x.observe(outputEl, {childList: true});\n",
              "}}\n",
              "\n",
              "                        })\n",
              "                };\n",
              "                \n",
              "            </script>\n",
              "        </div>\n",
              "</body>\n",
              "</html>"
            ]
          },
          "metadata": {
            "tags": []
          }
        }
      ]
    },
    {
      "cell_type": "code",
      "metadata": {
        "id": "Mxsad4pDudao",
        "colab_type": "code",
        "colab": {
          "base_uri": "https://localhost:8080/",
          "height": 580
        },
        "outputId": "f19069bc-c3ba-45c1-8054-2c63c6e365a9"
      },
      "source": [
        "#Plot the unique events\n",
        "\n",
        "values_event1 = df['Event1'].value_counts().keys().tolist()\n",
        "counts_event1 = df['Event1'].value_counts().tolist()\n",
        "values_event2 = df['Event2'].value_counts().keys().tolist()\n",
        "counts_event2 = df['Event2'].value_counts().tolist()\n",
        "d1 = {'Events' : values_event1, 'Counts1' : counts_event1}\n",
        "d2 = {'Events' : values_event2, 'Counts2' : counts_event2}\n",
        "\n",
        "print(d1, d2)\n",
        "events_1 = pd.DataFrame(d1, columns=['Events','Counts1'])\n",
        "events_2 = pd.DataFrame(d2, columns=['Events','Counts2'])\n",
        "events = pd.merge(events_1, events_2)\n",
        "events['Counts'] = events['Counts1'] + events['Counts2']\n",
        "\n",
        "\n",
        "fig = go.Figure(data=[go.Table(\n",
        "    header=dict(values=list(['Events', 'Counts']),\n",
        "                fill_color='paleturquoise',\n",
        "                align='left'),\n",
        "    cells=dict(values=[events.Events,  events.Counts],\n",
        "               fill_color='lavender',\n",
        "               align='left'))\n",
        "])\n",
        "\n",
        "fig.show()"
      ],
      "execution_count": null,
      "outputs": [
        {
          "output_type": "stream",
          "text": [
            "{'Events': ['Expos', 'Internships', 'Competitions', 'Trainings', 'Talks', 'Seminars', 'Jobs', 'Workshops', 'Certifications', 'Hackathons', 'Fests', 'Webinars', 'Courses'], 'Counts1': [22, 19, 18, 15, 14, 14, 14, 13, 12, 12, 12, 11, 7]} {'Events': ['Internships', 'Courses', 'Fests', 'Seminars', 'Competitions', 'Jobs', 'Expos', 'Certifications', 'Talks', 'Hackathons', 'Webinars', 'Workshops', 'Trainings'], 'Counts2': [19, 18, 18, 16, 16, 16, 14, 13, 12, 12, 11, 9, 9]}\n"
          ],
          "name": "stdout"
        },
        {
          "output_type": "display_data",
          "data": {
            "text/html": [
              "<html>\n",
              "<head><meta charset=\"utf-8\" /></head>\n",
              "<body>\n",
              "    <div>\n",
              "            <script src=\"https://cdnjs.cloudflare.com/ajax/libs/mathjax/2.7.5/MathJax.js?config=TeX-AMS-MML_SVG\"></script><script type=\"text/javascript\">if (window.MathJax) {MathJax.Hub.Config({SVG: {font: \"STIX-Web\"}});}</script>\n",
              "                <script type=\"text/javascript\">window.PlotlyConfig = {MathJaxConfig: 'local'};</script>\n",
              "        <script src=\"https://cdn.plot.ly/plotly-latest.min.js\"></script>    \n",
              "            <div id=\"e1a1ef5c-892b-4153-b19f-b2ec354c8d50\" class=\"plotly-graph-div\" style=\"height:525px; width:100%;\"></div>\n",
              "            <script type=\"text/javascript\">\n",
              "                \n",
              "                    window.PLOTLYENV=window.PLOTLYENV || {};\n",
              "                    \n",
              "                if (document.getElementById(\"e1a1ef5c-892b-4153-b19f-b2ec354c8d50\")) {\n",
              "                    Plotly.newPlot(\n",
              "                        'e1a1ef5c-892b-4153-b19f-b2ec354c8d50',\n",
              "                        [{\"cells\": {\"align\": \"left\", \"fill\": {\"color\": \"lavender\"}, \"values\": [[\"Expos\", \"Internships\", \"Competitions\", \"Trainings\", \"Talks\", \"Seminars\", \"Jobs\", \"Workshops\", \"Certifications\", \"Hackathons\", \"Fests\", \"Webinars\", \"Courses\"], [36, 38, 34, 24, 26, 30, 30, 22, 25, 24, 30, 22, 25]]}, \"header\": {\"align\": \"left\", \"fill\": {\"color\": \"paleturquoise\"}, \"values\": [\"Events\", \"Counts\"]}, \"type\": \"table\"}],\n",
              "                        {\"template\": {\"data\": {\"bar\": [{\"error_x\": {\"color\": \"#2a3f5f\"}, \"error_y\": {\"color\": \"#2a3f5f\"}, \"marker\": {\"line\": {\"color\": \"#E5ECF6\", \"width\": 0.5}}, \"type\": \"bar\"}], \"barpolar\": [{\"marker\": {\"line\": {\"color\": \"#E5ECF6\", \"width\": 0.5}}, \"type\": \"barpolar\"}], \"carpet\": [{\"aaxis\": {\"endlinecolor\": \"#2a3f5f\", \"gridcolor\": \"white\", \"linecolor\": \"white\", \"minorgridcolor\": \"white\", \"startlinecolor\": \"#2a3f5f\"}, \"baxis\": {\"endlinecolor\": \"#2a3f5f\", \"gridcolor\": \"white\", \"linecolor\": \"white\", \"minorgridcolor\": \"white\", \"startlinecolor\": \"#2a3f5f\"}, \"type\": \"carpet\"}], \"choropleth\": [{\"colorbar\": {\"outlinewidth\": 0, \"ticks\": \"\"}, \"type\": \"choropleth\"}], \"contour\": [{\"colorbar\": {\"outlinewidth\": 0, \"ticks\": \"\"}, \"colorscale\": [[0.0, \"#0d0887\"], [0.1111111111111111, \"#46039f\"], [0.2222222222222222, \"#7201a8\"], [0.3333333333333333, \"#9c179e\"], [0.4444444444444444, \"#bd3786\"], [0.5555555555555556, \"#d8576b\"], [0.6666666666666666, \"#ed7953\"], [0.7777777777777778, \"#fb9f3a\"], [0.8888888888888888, \"#fdca26\"], [1.0, \"#f0f921\"]], \"type\": \"contour\"}], \"contourcarpet\": [{\"colorbar\": {\"outlinewidth\": 0, \"ticks\": \"\"}, \"type\": \"contourcarpet\"}], \"heatmap\": [{\"colorbar\": {\"outlinewidth\": 0, \"ticks\": \"\"}, \"colorscale\": [[0.0, \"#0d0887\"], [0.1111111111111111, \"#46039f\"], [0.2222222222222222, \"#7201a8\"], [0.3333333333333333, \"#9c179e\"], [0.4444444444444444, \"#bd3786\"], [0.5555555555555556, \"#d8576b\"], [0.6666666666666666, \"#ed7953\"], [0.7777777777777778, \"#fb9f3a\"], [0.8888888888888888, \"#fdca26\"], [1.0, \"#f0f921\"]], \"type\": \"heatmap\"}], \"heatmapgl\": [{\"colorbar\": {\"outlinewidth\": 0, \"ticks\": \"\"}, \"colorscale\": [[0.0, \"#0d0887\"], [0.1111111111111111, \"#46039f\"], [0.2222222222222222, \"#7201a8\"], [0.3333333333333333, \"#9c179e\"], [0.4444444444444444, \"#bd3786\"], [0.5555555555555556, \"#d8576b\"], [0.6666666666666666, \"#ed7953\"], [0.7777777777777778, \"#fb9f3a\"], [0.8888888888888888, \"#fdca26\"], [1.0, \"#f0f921\"]], \"type\": \"heatmapgl\"}], \"histogram\": [{\"marker\": {\"colorbar\": {\"outlinewidth\": 0, \"ticks\": \"\"}}, \"type\": \"histogram\"}], \"histogram2d\": [{\"colorbar\": {\"outlinewidth\": 0, \"ticks\": \"\"}, \"colorscale\": [[0.0, \"#0d0887\"], [0.1111111111111111, \"#46039f\"], [0.2222222222222222, \"#7201a8\"], [0.3333333333333333, \"#9c179e\"], [0.4444444444444444, \"#bd3786\"], [0.5555555555555556, \"#d8576b\"], [0.6666666666666666, \"#ed7953\"], [0.7777777777777778, \"#fb9f3a\"], [0.8888888888888888, \"#fdca26\"], [1.0, \"#f0f921\"]], \"type\": \"histogram2d\"}], \"histogram2dcontour\": [{\"colorbar\": {\"outlinewidth\": 0, \"ticks\": \"\"}, \"colorscale\": [[0.0, \"#0d0887\"], [0.1111111111111111, \"#46039f\"], [0.2222222222222222, \"#7201a8\"], [0.3333333333333333, \"#9c179e\"], [0.4444444444444444, \"#bd3786\"], [0.5555555555555556, \"#d8576b\"], [0.6666666666666666, \"#ed7953\"], [0.7777777777777778, \"#fb9f3a\"], [0.8888888888888888, \"#fdca26\"], [1.0, \"#f0f921\"]], \"type\": \"histogram2dcontour\"}], \"mesh3d\": [{\"colorbar\": {\"outlinewidth\": 0, \"ticks\": \"\"}, \"type\": \"mesh3d\"}], \"parcoords\": [{\"line\": {\"colorbar\": {\"outlinewidth\": 0, \"ticks\": \"\"}}, \"type\": \"parcoords\"}], \"pie\": [{\"automargin\": true, \"type\": \"pie\"}], \"scatter\": [{\"marker\": {\"colorbar\": {\"outlinewidth\": 0, \"ticks\": \"\"}}, \"type\": \"scatter\"}], \"scatter3d\": [{\"line\": {\"colorbar\": {\"outlinewidth\": 0, \"ticks\": \"\"}}, \"marker\": {\"colorbar\": {\"outlinewidth\": 0, \"ticks\": \"\"}}, \"type\": \"scatter3d\"}], \"scattercarpet\": [{\"marker\": {\"colorbar\": {\"outlinewidth\": 0, \"ticks\": \"\"}}, \"type\": \"scattercarpet\"}], \"scattergeo\": [{\"marker\": {\"colorbar\": {\"outlinewidth\": 0, \"ticks\": \"\"}}, \"type\": \"scattergeo\"}], \"scattergl\": [{\"marker\": {\"colorbar\": {\"outlinewidth\": 0, \"ticks\": \"\"}}, \"type\": \"scattergl\"}], \"scattermapbox\": [{\"marker\": {\"colorbar\": {\"outlinewidth\": 0, \"ticks\": \"\"}}, \"type\": \"scattermapbox\"}], \"scatterpolar\": [{\"marker\": {\"colorbar\": {\"outlinewidth\": 0, \"ticks\": \"\"}}, \"type\": \"scatterpolar\"}], \"scatterpolargl\": [{\"marker\": {\"colorbar\": {\"outlinewidth\": 0, \"ticks\": \"\"}}, \"type\": \"scatterpolargl\"}], \"scatterternary\": [{\"marker\": {\"colorbar\": {\"outlinewidth\": 0, \"ticks\": \"\"}}, \"type\": \"scatterternary\"}], \"surface\": [{\"colorbar\": {\"outlinewidth\": 0, \"ticks\": \"\"}, \"colorscale\": [[0.0, \"#0d0887\"], [0.1111111111111111, \"#46039f\"], [0.2222222222222222, \"#7201a8\"], [0.3333333333333333, \"#9c179e\"], [0.4444444444444444, \"#bd3786\"], [0.5555555555555556, \"#d8576b\"], [0.6666666666666666, \"#ed7953\"], [0.7777777777777778, \"#fb9f3a\"], [0.8888888888888888, \"#fdca26\"], [1.0, \"#f0f921\"]], \"type\": \"surface\"}], \"table\": [{\"cells\": {\"fill\": {\"color\": \"#EBF0F8\"}, \"line\": {\"color\": \"white\"}}, \"header\": {\"fill\": {\"color\": \"#C8D4E3\"}, \"line\": {\"color\": \"white\"}}, \"type\": \"table\"}]}, \"layout\": {\"annotationdefaults\": {\"arrowcolor\": \"#2a3f5f\", \"arrowhead\": 0, \"arrowwidth\": 1}, \"coloraxis\": {\"colorbar\": {\"outlinewidth\": 0, \"ticks\": \"\"}}, \"colorscale\": {\"diverging\": [[0, \"#8e0152\"], [0.1, \"#c51b7d\"], [0.2, \"#de77ae\"], [0.3, \"#f1b6da\"], [0.4, \"#fde0ef\"], [0.5, \"#f7f7f7\"], [0.6, \"#e6f5d0\"], [0.7, \"#b8e186\"], [0.8, \"#7fbc41\"], [0.9, \"#4d9221\"], [1, \"#276419\"]], \"sequential\": [[0.0, \"#0d0887\"], [0.1111111111111111, \"#46039f\"], [0.2222222222222222, \"#7201a8\"], [0.3333333333333333, \"#9c179e\"], [0.4444444444444444, \"#bd3786\"], [0.5555555555555556, \"#d8576b\"], [0.6666666666666666, \"#ed7953\"], [0.7777777777777778, \"#fb9f3a\"], [0.8888888888888888, \"#fdca26\"], [1.0, \"#f0f921\"]], \"sequentialminus\": [[0.0, \"#0d0887\"], [0.1111111111111111, \"#46039f\"], [0.2222222222222222, \"#7201a8\"], [0.3333333333333333, \"#9c179e\"], [0.4444444444444444, \"#bd3786\"], [0.5555555555555556, \"#d8576b\"], [0.6666666666666666, \"#ed7953\"], [0.7777777777777778, \"#fb9f3a\"], [0.8888888888888888, \"#fdca26\"], [1.0, \"#f0f921\"]]}, \"colorway\": [\"#636efa\", \"#EF553B\", \"#00cc96\", \"#ab63fa\", \"#FFA15A\", \"#19d3f3\", \"#FF6692\", \"#B6E880\", \"#FF97FF\", \"#FECB52\"], \"font\": {\"color\": \"#2a3f5f\"}, \"geo\": {\"bgcolor\": \"white\", \"lakecolor\": \"white\", \"landcolor\": \"#E5ECF6\", \"showlakes\": true, \"showland\": true, \"subunitcolor\": \"white\"}, \"hoverlabel\": {\"align\": \"left\"}, \"hovermode\": \"closest\", \"mapbox\": {\"style\": \"light\"}, \"paper_bgcolor\": \"white\", \"plot_bgcolor\": \"#E5ECF6\", \"polar\": {\"angularaxis\": {\"gridcolor\": \"white\", \"linecolor\": \"white\", \"ticks\": \"\"}, \"bgcolor\": \"#E5ECF6\", \"radialaxis\": {\"gridcolor\": \"white\", \"linecolor\": \"white\", \"ticks\": \"\"}}, \"scene\": {\"xaxis\": {\"backgroundcolor\": \"#E5ECF6\", \"gridcolor\": \"white\", \"gridwidth\": 2, \"linecolor\": \"white\", \"showbackground\": true, \"ticks\": \"\", \"zerolinecolor\": \"white\"}, \"yaxis\": {\"backgroundcolor\": \"#E5ECF6\", \"gridcolor\": \"white\", \"gridwidth\": 2, \"linecolor\": \"white\", \"showbackground\": true, \"ticks\": \"\", \"zerolinecolor\": \"white\"}, \"zaxis\": {\"backgroundcolor\": \"#E5ECF6\", \"gridcolor\": \"white\", \"gridwidth\": 2, \"linecolor\": \"white\", \"showbackground\": true, \"ticks\": \"\", \"zerolinecolor\": \"white\"}}, \"shapedefaults\": {\"line\": {\"color\": \"#2a3f5f\"}}, \"ternary\": {\"aaxis\": {\"gridcolor\": \"white\", \"linecolor\": \"white\", \"ticks\": \"\"}, \"baxis\": {\"gridcolor\": \"white\", \"linecolor\": \"white\", \"ticks\": \"\"}, \"bgcolor\": \"#E5ECF6\", \"caxis\": {\"gridcolor\": \"white\", \"linecolor\": \"white\", \"ticks\": \"\"}}, \"title\": {\"x\": 0.05}, \"xaxis\": {\"automargin\": true, \"gridcolor\": \"white\", \"linecolor\": \"white\", \"ticks\": \"\", \"title\": {\"standoff\": 15}, \"zerolinecolor\": \"white\", \"zerolinewidth\": 2}, \"yaxis\": {\"automargin\": true, \"gridcolor\": \"white\", \"linecolor\": \"white\", \"ticks\": \"\", \"title\": {\"standoff\": 15}, \"zerolinecolor\": \"white\", \"zerolinewidth\": 2}}}},\n",
              "                        {\"responsive\": true}\n",
              "                    ).then(function(){\n",
              "                            \n",
              "var gd = document.getElementById('e1a1ef5c-892b-4153-b19f-b2ec354c8d50');\n",
              "var x = new MutationObserver(function (mutations, observer) {{\n",
              "        var display = window.getComputedStyle(gd).display;\n",
              "        if (!display || display === 'none') {{\n",
              "            console.log([gd, 'removed!']);\n",
              "            Plotly.purge(gd);\n",
              "            observer.disconnect();\n",
              "        }}\n",
              "}});\n",
              "\n",
              "// Listen for the removal of the full notebook cells\n",
              "var notebookContainer = gd.closest('#notebook-container');\n",
              "if (notebookContainer) {{\n",
              "    x.observe(notebookContainer, {childList: true});\n",
              "}}\n",
              "\n",
              "// Listen for the clearing of the current output cell\n",
              "var outputEl = gd.closest('.output');\n",
              "if (outputEl) {{\n",
              "    x.observe(outputEl, {childList: true});\n",
              "}}\n",
              "\n",
              "                        })\n",
              "                };\n",
              "                \n",
              "            </script>\n",
              "        </div>\n",
              "</body>\n",
              "</html>"
            ]
          },
          "metadata": {
            "tags": []
          }
        }
      ]
    },
    {
      "cell_type": "code",
      "metadata": {
        "id": "2TlXqjCJ0p-6",
        "colab_type": "code",
        "colab": {
          "base_uri": "https://localhost:8080/",
          "height": 542
        },
        "outputId": "4e65a0ea-3e49-450f-d3c5-8952c34572ac"
      },
      "source": [
        "# Plot the unique events\n",
        "\n",
        "fig = px.pie(events, values= 'Counts', names='Events',\n",
        "             title='Value counts of Different Events',\n",
        "             hover_data=['Events', 'Counts'])\n",
        "# fig.update_traces(textposition='inside', textinfo='percent+label')\n",
        "fig.show()"
      ],
      "execution_count": null,
      "outputs": [
        {
          "output_type": "display_data",
          "data": {
            "text/html": [
              "<html>\n",
              "<head><meta charset=\"utf-8\" /></head>\n",
              "<body>\n",
              "    <div>\n",
              "            <script src=\"https://cdnjs.cloudflare.com/ajax/libs/mathjax/2.7.5/MathJax.js?config=TeX-AMS-MML_SVG\"></script><script type=\"text/javascript\">if (window.MathJax) {MathJax.Hub.Config({SVG: {font: \"STIX-Web\"}});}</script>\n",
              "                <script type=\"text/javascript\">window.PlotlyConfig = {MathJaxConfig: 'local'};</script>\n",
              "        <script src=\"https://cdn.plot.ly/plotly-latest.min.js\"></script>    \n",
              "            <div id=\"e6814ca4-7a71-414e-ac5a-24b13e476cb2\" class=\"plotly-graph-div\" style=\"height:525px; width:100%;\"></div>\n",
              "            <script type=\"text/javascript\">\n",
              "                \n",
              "                    window.PLOTLYENV=window.PLOTLYENV || {};\n",
              "                    \n",
              "                if (document.getElementById(\"e6814ca4-7a71-414e-ac5a-24b13e476cb2\")) {\n",
              "                    Plotly.newPlot(\n",
              "                        'e6814ca4-7a71-414e-ac5a-24b13e476cb2',\n",
              "                        [{\"customdata\": [[\"Expos\", 36], [\"Internships\", 38], [\"Competitions\", 34], [\"Trainings\", 24], [\"Talks\", 26], [\"Seminars\", 30], [\"Jobs\", 30], [\"Workshops\", 22], [\"Certifications\", 25], [\"Hackathons\", 24], [\"Fests\", 30], [\"Webinars\", 22], [\"Courses\", 25]], \"domain\": {\"x\": [0.0, 1.0], \"y\": [0.0, 1.0]}, \"hoverlabel\": {\"namelength\": 0}, \"hovertemplate\": \"Events=%{label}<br>Counts=%{value}\", \"labels\": [\"Expos\", \"Internships\", \"Competitions\", \"Trainings\", \"Talks\", \"Seminars\", \"Jobs\", \"Workshops\", \"Certifications\", \"Hackathons\", \"Fests\", \"Webinars\", \"Courses\"], \"legendgroup\": \"\", \"name\": \"\", \"showlegend\": true, \"type\": \"pie\", \"values\": [36, 38, 34, 24, 26, 30, 30, 22, 25, 24, 30, 22, 25]}],\n",
              "                        {\"legend\": {\"tracegroupgap\": 0}, \"template\": {\"data\": {\"bar\": [{\"error_x\": {\"color\": \"#2a3f5f\"}, \"error_y\": {\"color\": \"#2a3f5f\"}, \"marker\": {\"line\": {\"color\": \"#E5ECF6\", \"width\": 0.5}}, \"type\": \"bar\"}], \"barpolar\": [{\"marker\": {\"line\": {\"color\": \"#E5ECF6\", \"width\": 0.5}}, \"type\": \"barpolar\"}], \"carpet\": [{\"aaxis\": {\"endlinecolor\": \"#2a3f5f\", \"gridcolor\": \"white\", \"linecolor\": \"white\", \"minorgridcolor\": \"white\", \"startlinecolor\": \"#2a3f5f\"}, \"baxis\": {\"endlinecolor\": \"#2a3f5f\", \"gridcolor\": \"white\", \"linecolor\": \"white\", \"minorgridcolor\": \"white\", \"startlinecolor\": \"#2a3f5f\"}, \"type\": \"carpet\"}], \"choropleth\": [{\"colorbar\": {\"outlinewidth\": 0, \"ticks\": \"\"}, \"type\": \"choropleth\"}], \"contour\": [{\"colorbar\": {\"outlinewidth\": 0, \"ticks\": \"\"}, \"colorscale\": [[0.0, \"#0d0887\"], [0.1111111111111111, \"#46039f\"], [0.2222222222222222, \"#7201a8\"], [0.3333333333333333, \"#9c179e\"], [0.4444444444444444, \"#bd3786\"], [0.5555555555555556, \"#d8576b\"], [0.6666666666666666, \"#ed7953\"], [0.7777777777777778, \"#fb9f3a\"], [0.8888888888888888, \"#fdca26\"], [1.0, \"#f0f921\"]], \"type\": \"contour\"}], \"contourcarpet\": [{\"colorbar\": {\"outlinewidth\": 0, \"ticks\": \"\"}, \"type\": \"contourcarpet\"}], \"heatmap\": [{\"colorbar\": {\"outlinewidth\": 0, \"ticks\": \"\"}, \"colorscale\": [[0.0, \"#0d0887\"], [0.1111111111111111, \"#46039f\"], [0.2222222222222222, \"#7201a8\"], [0.3333333333333333, \"#9c179e\"], [0.4444444444444444, \"#bd3786\"], [0.5555555555555556, \"#d8576b\"], [0.6666666666666666, \"#ed7953\"], [0.7777777777777778, \"#fb9f3a\"], [0.8888888888888888, \"#fdca26\"], [1.0, \"#f0f921\"]], \"type\": \"heatmap\"}], \"heatmapgl\": [{\"colorbar\": {\"outlinewidth\": 0, \"ticks\": \"\"}, \"colorscale\": [[0.0, \"#0d0887\"], [0.1111111111111111, \"#46039f\"], [0.2222222222222222, \"#7201a8\"], [0.3333333333333333, \"#9c179e\"], [0.4444444444444444, \"#bd3786\"], [0.5555555555555556, \"#d8576b\"], [0.6666666666666666, \"#ed7953\"], [0.7777777777777778, \"#fb9f3a\"], [0.8888888888888888, \"#fdca26\"], [1.0, \"#f0f921\"]], \"type\": \"heatmapgl\"}], \"histogram\": [{\"marker\": {\"colorbar\": {\"outlinewidth\": 0, \"ticks\": \"\"}}, \"type\": \"histogram\"}], \"histogram2d\": [{\"colorbar\": {\"outlinewidth\": 0, \"ticks\": \"\"}, \"colorscale\": [[0.0, \"#0d0887\"], [0.1111111111111111, \"#46039f\"], [0.2222222222222222, \"#7201a8\"], [0.3333333333333333, \"#9c179e\"], [0.4444444444444444, \"#bd3786\"], [0.5555555555555556, \"#d8576b\"], [0.6666666666666666, \"#ed7953\"], [0.7777777777777778, \"#fb9f3a\"], [0.8888888888888888, \"#fdca26\"], [1.0, \"#f0f921\"]], \"type\": \"histogram2d\"}], \"histogram2dcontour\": [{\"colorbar\": {\"outlinewidth\": 0, \"ticks\": \"\"}, \"colorscale\": [[0.0, \"#0d0887\"], [0.1111111111111111, \"#46039f\"], [0.2222222222222222, \"#7201a8\"], [0.3333333333333333, \"#9c179e\"], [0.4444444444444444, \"#bd3786\"], [0.5555555555555556, \"#d8576b\"], [0.6666666666666666, \"#ed7953\"], [0.7777777777777778, \"#fb9f3a\"], [0.8888888888888888, \"#fdca26\"], [1.0, \"#f0f921\"]], \"type\": \"histogram2dcontour\"}], \"mesh3d\": [{\"colorbar\": {\"outlinewidth\": 0, \"ticks\": \"\"}, \"type\": \"mesh3d\"}], \"parcoords\": [{\"line\": {\"colorbar\": {\"outlinewidth\": 0, \"ticks\": \"\"}}, \"type\": \"parcoords\"}], \"pie\": [{\"automargin\": true, \"type\": \"pie\"}], \"scatter\": [{\"marker\": {\"colorbar\": {\"outlinewidth\": 0, \"ticks\": \"\"}}, \"type\": \"scatter\"}], \"scatter3d\": [{\"line\": {\"colorbar\": {\"outlinewidth\": 0, \"ticks\": \"\"}}, \"marker\": {\"colorbar\": {\"outlinewidth\": 0, \"ticks\": \"\"}}, \"type\": \"scatter3d\"}], \"scattercarpet\": [{\"marker\": {\"colorbar\": {\"outlinewidth\": 0, \"ticks\": \"\"}}, \"type\": \"scattercarpet\"}], \"scattergeo\": [{\"marker\": {\"colorbar\": {\"outlinewidth\": 0, \"ticks\": \"\"}}, \"type\": \"scattergeo\"}], \"scattergl\": [{\"marker\": {\"colorbar\": {\"outlinewidth\": 0, \"ticks\": \"\"}}, \"type\": \"scattergl\"}], \"scattermapbox\": [{\"marker\": {\"colorbar\": {\"outlinewidth\": 0, \"ticks\": \"\"}}, \"type\": \"scattermapbox\"}], \"scatterpolar\": [{\"marker\": {\"colorbar\": {\"outlinewidth\": 0, \"ticks\": \"\"}}, \"type\": \"scatterpolar\"}], \"scatterpolargl\": [{\"marker\": {\"colorbar\": {\"outlinewidth\": 0, \"ticks\": \"\"}}, \"type\": \"scatterpolargl\"}], \"scatterternary\": [{\"marker\": {\"colorbar\": {\"outlinewidth\": 0, \"ticks\": \"\"}}, \"type\": \"scatterternary\"}], \"surface\": [{\"colorbar\": {\"outlinewidth\": 0, \"ticks\": \"\"}, \"colorscale\": [[0.0, \"#0d0887\"], [0.1111111111111111, \"#46039f\"], [0.2222222222222222, \"#7201a8\"], [0.3333333333333333, \"#9c179e\"], [0.4444444444444444, \"#bd3786\"], [0.5555555555555556, \"#d8576b\"], [0.6666666666666666, \"#ed7953\"], [0.7777777777777778, \"#fb9f3a\"], [0.8888888888888888, \"#fdca26\"], [1.0, \"#f0f921\"]], \"type\": \"surface\"}], \"table\": [{\"cells\": {\"fill\": {\"color\": \"#EBF0F8\"}, \"line\": {\"color\": \"white\"}}, \"header\": {\"fill\": {\"color\": \"#C8D4E3\"}, \"line\": {\"color\": \"white\"}}, \"type\": \"table\"}]}, \"layout\": {\"annotationdefaults\": {\"arrowcolor\": \"#2a3f5f\", \"arrowhead\": 0, \"arrowwidth\": 1}, \"coloraxis\": {\"colorbar\": {\"outlinewidth\": 0, \"ticks\": \"\"}}, \"colorscale\": {\"diverging\": [[0, \"#8e0152\"], [0.1, \"#c51b7d\"], [0.2, \"#de77ae\"], [0.3, \"#f1b6da\"], [0.4, \"#fde0ef\"], [0.5, \"#f7f7f7\"], [0.6, \"#e6f5d0\"], [0.7, \"#b8e186\"], [0.8, \"#7fbc41\"], [0.9, \"#4d9221\"], [1, \"#276419\"]], \"sequential\": [[0.0, \"#0d0887\"], [0.1111111111111111, \"#46039f\"], [0.2222222222222222, \"#7201a8\"], [0.3333333333333333, \"#9c179e\"], [0.4444444444444444, \"#bd3786\"], [0.5555555555555556, \"#d8576b\"], [0.6666666666666666, \"#ed7953\"], [0.7777777777777778, \"#fb9f3a\"], [0.8888888888888888, \"#fdca26\"], [1.0, \"#f0f921\"]], \"sequentialminus\": [[0.0, \"#0d0887\"], [0.1111111111111111, \"#46039f\"], [0.2222222222222222, \"#7201a8\"], [0.3333333333333333, \"#9c179e\"], [0.4444444444444444, \"#bd3786\"], [0.5555555555555556, \"#d8576b\"], [0.6666666666666666, \"#ed7953\"], [0.7777777777777778, \"#fb9f3a\"], [0.8888888888888888, \"#fdca26\"], [1.0, \"#f0f921\"]]}, \"colorway\": [\"#636efa\", \"#EF553B\", \"#00cc96\", \"#ab63fa\", \"#FFA15A\", \"#19d3f3\", \"#FF6692\", \"#B6E880\", \"#FF97FF\", \"#FECB52\"], \"font\": {\"color\": \"#2a3f5f\"}, \"geo\": {\"bgcolor\": \"white\", \"lakecolor\": \"white\", \"landcolor\": \"#E5ECF6\", \"showlakes\": true, \"showland\": true, \"subunitcolor\": \"white\"}, \"hoverlabel\": {\"align\": \"left\"}, \"hovermode\": \"closest\", \"mapbox\": {\"style\": \"light\"}, \"paper_bgcolor\": \"white\", \"plot_bgcolor\": \"#E5ECF6\", \"polar\": {\"angularaxis\": {\"gridcolor\": \"white\", \"linecolor\": \"white\", \"ticks\": \"\"}, \"bgcolor\": \"#E5ECF6\", \"radialaxis\": {\"gridcolor\": \"white\", \"linecolor\": \"white\", \"ticks\": \"\"}}, \"scene\": {\"xaxis\": {\"backgroundcolor\": \"#E5ECF6\", \"gridcolor\": \"white\", \"gridwidth\": 2, \"linecolor\": \"white\", \"showbackground\": true, \"ticks\": \"\", \"zerolinecolor\": \"white\"}, \"yaxis\": {\"backgroundcolor\": \"#E5ECF6\", \"gridcolor\": \"white\", \"gridwidth\": 2, \"linecolor\": \"white\", \"showbackground\": true, \"ticks\": \"\", \"zerolinecolor\": \"white\"}, \"zaxis\": {\"backgroundcolor\": \"#E5ECF6\", \"gridcolor\": \"white\", \"gridwidth\": 2, \"linecolor\": \"white\", \"showbackground\": true, \"ticks\": \"\", \"zerolinecolor\": \"white\"}}, \"shapedefaults\": {\"line\": {\"color\": \"#2a3f5f\"}}, \"ternary\": {\"aaxis\": {\"gridcolor\": \"white\", \"linecolor\": \"white\", \"ticks\": \"\"}, \"baxis\": {\"gridcolor\": \"white\", \"linecolor\": \"white\", \"ticks\": \"\"}, \"bgcolor\": \"#E5ECF6\", \"caxis\": {\"gridcolor\": \"white\", \"linecolor\": \"white\", \"ticks\": \"\"}}, \"title\": {\"x\": 0.05}, \"xaxis\": {\"automargin\": true, \"gridcolor\": \"white\", \"linecolor\": \"white\", \"ticks\": \"\", \"title\": {\"standoff\": 15}, \"zerolinecolor\": \"white\", \"zerolinewidth\": 2}, \"yaxis\": {\"automargin\": true, \"gridcolor\": \"white\", \"linecolor\": \"white\", \"ticks\": \"\", \"title\": {\"standoff\": 15}, \"zerolinecolor\": \"white\", \"zerolinewidth\": 2}}}, \"title\": {\"text\": \"Value counts of Different Events\"}},\n",
              "                        {\"responsive\": true}\n",
              "                    ).then(function(){\n",
              "                            \n",
              "var gd = document.getElementById('e6814ca4-7a71-414e-ac5a-24b13e476cb2');\n",
              "var x = new MutationObserver(function (mutations, observer) {{\n",
              "        var display = window.getComputedStyle(gd).display;\n",
              "        if (!display || display === 'none') {{\n",
              "            console.log([gd, 'removed!']);\n",
              "            Plotly.purge(gd);\n",
              "            observer.disconnect();\n",
              "        }}\n",
              "}});\n",
              "\n",
              "// Listen for the removal of the full notebook cells\n",
              "var notebookContainer = gd.closest('#notebook-container');\n",
              "if (notebookContainer) {{\n",
              "    x.observe(notebookContainer, {childList: true});\n",
              "}}\n",
              "\n",
              "// Listen for the clearing of the current output cell\n",
              "var outputEl = gd.closest('.output');\n",
              "if (outputEl) {{\n",
              "    x.observe(outputEl, {childList: true});\n",
              "}}\n",
              "\n",
              "                        })\n",
              "                };\n",
              "                \n",
              "            </script>\n",
              "        </div>\n",
              "</body>\n",
              "</html>"
            ]
          },
          "metadata": {
            "tags": []
          }
        }
      ]
    },
    {
      "cell_type": "markdown",
      "metadata": {
        "id": "vv8g7-0SI_re",
        "colab_type": "text"
      },
      "source": [
        "Trying mutli-label classification\n",
        "Step 1 : Making a dataframe consisting of Domains and Events and using this for mutli-label classification."
      ]
    },
    {
      "cell_type": "code",
      "metadata": {
        "id": "9HWe_ycO8qPJ",
        "colab_type": "code",
        "colab": {
          "base_uri": "https://localhost:8080/",
          "height": 542
        },
        "outputId": "f9c48a9f-25ec-4607-e4a8-d982b039d0b9"
      },
      "source": [
        "domain_event1_df = df[['Domain', 'Event1']]\n",
        "domain_event1_df.columns = ['Domain', 'Event']\n",
        "fig = go.Figure(data=[go.Table(\n",
        "    header=dict(values=list(domain_event1_df.columns),\n",
        "                fill_color='paleturquoise',\n",
        "                align='left'),\n",
        "    cells=dict(values=[domain_event1_df.Domain, domain_event1_df.Event],\n",
        "               fill_color='lavender',\n",
        "               align='left'))\n",
        "])\n",
        "\n",
        "fig.show()"
      ],
      "execution_count": null,
      "outputs": [
        {
          "output_type": "display_data",
          "data": {
            "text/html": [
              "<html>\n",
              "<head><meta charset=\"utf-8\" /></head>\n",
              "<body>\n",
              "    <div>\n",
              "            <script src=\"https://cdnjs.cloudflare.com/ajax/libs/mathjax/2.7.5/MathJax.js?config=TeX-AMS-MML_SVG\"></script><script type=\"text/javascript\">if (window.MathJax) {MathJax.Hub.Config({SVG: {font: \"STIX-Web\"}});}</script>\n",
              "                <script type=\"text/javascript\">window.PlotlyConfig = {MathJaxConfig: 'local'};</script>\n",
              "        <script src=\"https://cdn.plot.ly/plotly-latest.min.js\"></script>    \n",
              "            <div id=\"acc749d6-3c28-4881-8443-9eb8b10077fe\" class=\"plotly-graph-div\" style=\"height:525px; width:100%;\"></div>\n",
              "            <script type=\"text/javascript\">\n",
              "                \n",
              "                    window.PLOTLYENV=window.PLOTLYENV || {};\n",
              "                    \n",
              "                if (document.getElementById(\"acc749d6-3c28-4881-8443-9eb8b10077fe\")) {\n",
              "                    Plotly.newPlot(\n",
              "                        'acc749d6-3c28-4881-8443-9eb8b10077fe',\n",
              "                        [{\"cells\": {\"align\": \"left\", \"fill\": {\"color\": \"lavender\"}, \"values\": [[\"Management\", \"Coding\", \"Security\", \"Hardware\", \"Web Development\", \"Higher Education\", \"IoT\", \"Coding\", \"Java\", \"Security\", \"Web Development\", \"Management\", \"Artificial Intelligence\", \"Management\", \"Python\", \"Python\", \"Artificial Intelligence\", \"Finance\", \"Mobile Applications\", \"Higher Education\", \"C++\", \"Software Architecture\", \"Web Development\", \"Python\", \"IoT\", \"Mobile Applications\", \"Finance\", \"Higher Education\", \"Java\", \"Other\", \"Other\", \"Management\", \"Security\", \"Other\", \"C\", \"Java\", \"Cloud Computing\", \"Other\", \"Python\", \"C++\", \"Security\", \"Security\", \"C\", \"Networking\", \"JavaScript\", \"IoT\", \"Hardware\", \"Artificial Intelligence\", \"Mobile Applications\", \"Machine Learning\", \"Blockchain\", \"JavaScript\", \"Machine Learning\", \"Higher Education\", \"Finance\", \"Networking\", \"Cloud Computing\", \"Java\", \"JavaScript\", \"C\", \"Java\", \"Java\", \"Finance\", \"JavaScript\", \"Python\", \"Python\", \"IoT\", \"Coding\", \"Networking\", \"Finance\", \"Cloud Computing\", \"Coding\", \"Software Architecture\", \"IoT\", \"Blockchain\", \"Java\", \"Blockchain\", \"Development Processes\", \"C\", \"Software Architecture\", \"Python\", \"Web Development\", \"Security\", \"Cloud Computing\", \"C++\", \"Cloud Computing\", \"Data Science\", \"Machine Learning\", \"JavaScript\", \"Web Development\", \"IoT\", \"Blockchain\", \"Cloud Computing\", \"C\", \"Python\", \"Mobile Applications\", \"Coding\", \"Management\", \"Web Development\", \"Networking\", \"Security\", \"C\", \"Management\", \"Python\", \"Software Architecture\", \"Networking\", \"Hardware\", \"C++\", \"Cloud Computing\", \"Other\", \"Blockchain\", \"Security\", \"Networking\", \"Coding\", \"Machine Learning\", \"Higher Education\", \"Coding\", \"Finance\", \"C++\", \"Management\", \"Hardware\", \"Development Processes\", \"Cloud Computing\", \"Other\", \"Java\", \"Machine Learning\", \"IoT\", \"Python\", \"IoT\", \"Development Processes\", \"Higher Education\", \"IoT\", \"Coding\", \"Blockchain\", \"Other\", \"Networking\", \"Management\", \"Security\", \"Mobile Applications\", \"Data Science\", \"Cloud Computing\", \"Blockchain\", \"Machine Learning\", \"Blockchain\", \"Development Processes\", \"C++\", \"Web Development\", \"Cloud Computing\", \"Management\", \"Security\", \"C\", \"Finance\", \"Development Processes\", \"Mobile Applications\", \"Mobile Applications\", \"Java\", \"Mobile Applications\", \"Blockchain\", \"C++\", \"Other\", \"Networking\", \"Other\", \"Finance\", \"Development Processes\", \"Other\", \"Machine Learning\", \"Mobile Applications\", \"Security\", \"Coding\", \"C++\", \"Development Processes\", \"Higher Education\", \"Data Science\", \"Cloud Computing\", \"Data Science\", \"Management\", \"Networking\", \"Finance\", \"Coding\", \"Other\", \"Software Architecture\", \"Development Processes\", \"C\"], [\"Jobs\", \"Certifications\", \"Internships\", \"Competitions\", \"Expos\", \"Workshops\", \"Certifications\", \"Jobs\", \"Trainings\", \"Certifications\", \"Internships\", \"Jobs\", \"Expos\", \"Seminars\", \"Hackathons\", \"Workshops\", \"Competitions\", \"Fests\", \"Certifications\", \"Internships\", \"Fests\", \"Seminars\", \"Trainings\", \"Seminars\", \"Expos\", \"Competitions\", \"Workshops\", \"Competitions\", \"Seminars\", \"Seminars\", \"Trainings\", \"Trainings\", \"Talks\", \"Webinars\", \"Expos\", \"Expos\", \"Hackathons\", \"Talks\", \"Courses\", \"Talks\", \"Competitions\", \"Certifications\", \"Hackathons\", \"Competitions\", \"Jobs\", \"Internships\", \"Workshops\", \"Workshops\", \"Talks\", \"Fests\", \"Fests\", \"Internships\", \"Webinars\", \"Competitions\", \"Trainings\", \"Talks\", \"Talks\", \"Courses\", \"Expos\", \"Talks\", \"Trainings\", \"Expos\", \"Seminars\", \"Competitions\", \"Talks\", \"Webinars\", \"Webinars\", \"Jobs\", \"Competitions\", \"Competitions\", \"Workshops\", \"Internships\", \"Internships\", \"Hackathons\", \"Internships\", \"Certifications\", \"Certifications\", \"Certifications\", \"Fests\", \"Certifications\", \"Webinars\", \"Internships\", \"Jobs\", \"Courses\", \"Courses\", \"Expos\", \"Hackathons\", \"Internships\", \"Trainings\", \"Workshops\", \"Courses\", \"Workshops\", \"Trainings\", \"Seminars\", \"Jobs\", \"Competitions\", \"Seminars\", \"Courses\", \"Trainings\", \"Fests\", \"Seminars\", \"Hackathons\", \"Hackathons\", \"Fests\", \"Workshops\", \"Certifications\", \"Competitions\", \"Jobs\", \"Workshops\", \"Expos\", \"Seminars\", \"Workshops\", \"Webinars\", \"Competitions\", \"Expos\", \"Trainings\", \"Webinars\", \"Hackathons\", \"Workshops\", \"Fests\", \"Internships\", \"Fests\", \"Workshops\", \"Jobs\", \"Competitions\", \"Internships\", \"Trainings\", \"Hackathons\", \"Trainings\", \"Webinars\", \"Expos\", \"Expos\", \"Expos\", \"Hackathons\", \"Expos\", \"Jobs\", \"Expos\", \"Talks\", \"Internships\", \"Talks\", \"Seminars\", \"Trainings\", \"Internships\", \"Expos\", \"Jobs\", \"Internships\", \"Expos\", \"Fests\", \"Jobs\", \"Competitions\", \"Competitions\", \"Trainings\", \"Expos\", \"Jobs\", \"Competitions\", \"Webinars\", \"Certifications\", \"Talks\", \"Internships\", \"Webinars\", \"Hackathons\", \"Webinars\", \"Internships\", \"Expos\", \"Certifications\", \"Jobs\", \"Fests\", \"Hackathons\", \"Fests\", \"Talks\", \"Seminars\", \"Competitions\", \"Expos\", \"Expos\", \"Internships\", \"Expos\", \"Internships\", \"Seminars\", \"Courses\", \"Talks\", \"Talks\", \"Trainings\", \"Seminars\"]]}, \"header\": {\"align\": \"left\", \"fill\": {\"color\": \"paleturquoise\"}, \"values\": [\"Domain\", \"Event\"]}, \"type\": \"table\"}],\n",
              "                        {\"template\": {\"data\": {\"bar\": [{\"error_x\": {\"color\": \"#2a3f5f\"}, \"error_y\": {\"color\": \"#2a3f5f\"}, \"marker\": {\"line\": {\"color\": \"#E5ECF6\", \"width\": 0.5}}, \"type\": \"bar\"}], \"barpolar\": [{\"marker\": {\"line\": {\"color\": \"#E5ECF6\", \"width\": 0.5}}, \"type\": \"barpolar\"}], \"carpet\": [{\"aaxis\": {\"endlinecolor\": \"#2a3f5f\", \"gridcolor\": \"white\", \"linecolor\": \"white\", \"minorgridcolor\": \"white\", \"startlinecolor\": \"#2a3f5f\"}, \"baxis\": {\"endlinecolor\": \"#2a3f5f\", \"gridcolor\": \"white\", \"linecolor\": \"white\", \"minorgridcolor\": \"white\", \"startlinecolor\": \"#2a3f5f\"}, \"type\": \"carpet\"}], \"choropleth\": [{\"colorbar\": {\"outlinewidth\": 0, \"ticks\": \"\"}, \"type\": \"choropleth\"}], \"contour\": [{\"colorbar\": {\"outlinewidth\": 0, \"ticks\": \"\"}, \"colorscale\": [[0.0, \"#0d0887\"], [0.1111111111111111, \"#46039f\"], [0.2222222222222222, \"#7201a8\"], [0.3333333333333333, \"#9c179e\"], [0.4444444444444444, \"#bd3786\"], [0.5555555555555556, \"#d8576b\"], [0.6666666666666666, \"#ed7953\"], [0.7777777777777778, \"#fb9f3a\"], [0.8888888888888888, \"#fdca26\"], [1.0, \"#f0f921\"]], \"type\": \"contour\"}], \"contourcarpet\": [{\"colorbar\": {\"outlinewidth\": 0, \"ticks\": \"\"}, \"type\": \"contourcarpet\"}], \"heatmap\": [{\"colorbar\": {\"outlinewidth\": 0, \"ticks\": \"\"}, \"colorscale\": [[0.0, \"#0d0887\"], [0.1111111111111111, \"#46039f\"], [0.2222222222222222, \"#7201a8\"], [0.3333333333333333, \"#9c179e\"], [0.4444444444444444, \"#bd3786\"], [0.5555555555555556, \"#d8576b\"], [0.6666666666666666, \"#ed7953\"], [0.7777777777777778, \"#fb9f3a\"], [0.8888888888888888, \"#fdca26\"], [1.0, \"#f0f921\"]], \"type\": \"heatmap\"}], \"heatmapgl\": [{\"colorbar\": {\"outlinewidth\": 0, \"ticks\": \"\"}, \"colorscale\": [[0.0, \"#0d0887\"], [0.1111111111111111, \"#46039f\"], [0.2222222222222222, \"#7201a8\"], [0.3333333333333333, \"#9c179e\"], [0.4444444444444444, \"#bd3786\"], [0.5555555555555556, \"#d8576b\"], [0.6666666666666666, \"#ed7953\"], [0.7777777777777778, \"#fb9f3a\"], [0.8888888888888888, \"#fdca26\"], [1.0, \"#f0f921\"]], \"type\": \"heatmapgl\"}], \"histogram\": [{\"marker\": {\"colorbar\": {\"outlinewidth\": 0, \"ticks\": \"\"}}, \"type\": \"histogram\"}], \"histogram2d\": [{\"colorbar\": {\"outlinewidth\": 0, \"ticks\": \"\"}, \"colorscale\": [[0.0, \"#0d0887\"], [0.1111111111111111, \"#46039f\"], [0.2222222222222222, \"#7201a8\"], [0.3333333333333333, \"#9c179e\"], [0.4444444444444444, \"#bd3786\"], [0.5555555555555556, \"#d8576b\"], [0.6666666666666666, \"#ed7953\"], [0.7777777777777778, \"#fb9f3a\"], [0.8888888888888888, \"#fdca26\"], [1.0, \"#f0f921\"]], \"type\": \"histogram2d\"}], \"histogram2dcontour\": [{\"colorbar\": {\"outlinewidth\": 0, \"ticks\": \"\"}, \"colorscale\": [[0.0, \"#0d0887\"], [0.1111111111111111, \"#46039f\"], [0.2222222222222222, \"#7201a8\"], [0.3333333333333333, \"#9c179e\"], [0.4444444444444444, \"#bd3786\"], [0.5555555555555556, \"#d8576b\"], [0.6666666666666666, \"#ed7953\"], [0.7777777777777778, \"#fb9f3a\"], [0.8888888888888888, \"#fdca26\"], [1.0, \"#f0f921\"]], \"type\": \"histogram2dcontour\"}], \"mesh3d\": [{\"colorbar\": {\"outlinewidth\": 0, \"ticks\": \"\"}, \"type\": \"mesh3d\"}], \"parcoords\": [{\"line\": {\"colorbar\": {\"outlinewidth\": 0, \"ticks\": \"\"}}, \"type\": \"parcoords\"}], \"pie\": [{\"automargin\": true, \"type\": \"pie\"}], \"scatter\": [{\"marker\": {\"colorbar\": {\"outlinewidth\": 0, \"ticks\": \"\"}}, \"type\": \"scatter\"}], \"scatter3d\": [{\"line\": {\"colorbar\": {\"outlinewidth\": 0, \"ticks\": \"\"}}, \"marker\": {\"colorbar\": {\"outlinewidth\": 0, \"ticks\": \"\"}}, \"type\": \"scatter3d\"}], \"scattercarpet\": [{\"marker\": {\"colorbar\": {\"outlinewidth\": 0, \"ticks\": \"\"}}, \"type\": \"scattercarpet\"}], \"scattergeo\": [{\"marker\": {\"colorbar\": {\"outlinewidth\": 0, \"ticks\": \"\"}}, \"type\": \"scattergeo\"}], \"scattergl\": [{\"marker\": {\"colorbar\": {\"outlinewidth\": 0, \"ticks\": \"\"}}, \"type\": \"scattergl\"}], \"scattermapbox\": [{\"marker\": {\"colorbar\": {\"outlinewidth\": 0, \"ticks\": \"\"}}, \"type\": \"scattermapbox\"}], \"scatterpolar\": [{\"marker\": {\"colorbar\": {\"outlinewidth\": 0, \"ticks\": \"\"}}, \"type\": \"scatterpolar\"}], \"scatterpolargl\": [{\"marker\": {\"colorbar\": {\"outlinewidth\": 0, \"ticks\": \"\"}}, \"type\": \"scatterpolargl\"}], \"scatterternary\": [{\"marker\": {\"colorbar\": {\"outlinewidth\": 0, \"ticks\": \"\"}}, \"type\": \"scatterternary\"}], \"surface\": [{\"colorbar\": {\"outlinewidth\": 0, \"ticks\": \"\"}, \"colorscale\": [[0.0, \"#0d0887\"], [0.1111111111111111, \"#46039f\"], [0.2222222222222222, \"#7201a8\"], [0.3333333333333333, \"#9c179e\"], [0.4444444444444444, \"#bd3786\"], [0.5555555555555556, \"#d8576b\"], [0.6666666666666666, \"#ed7953\"], [0.7777777777777778, \"#fb9f3a\"], [0.8888888888888888, \"#fdca26\"], [1.0, \"#f0f921\"]], \"type\": \"surface\"}], \"table\": [{\"cells\": {\"fill\": {\"color\": \"#EBF0F8\"}, \"line\": {\"color\": \"white\"}}, \"header\": {\"fill\": {\"color\": \"#C8D4E3\"}, \"line\": {\"color\": \"white\"}}, \"type\": \"table\"}]}, \"layout\": {\"annotationdefaults\": {\"arrowcolor\": \"#2a3f5f\", \"arrowhead\": 0, \"arrowwidth\": 1}, \"coloraxis\": {\"colorbar\": {\"outlinewidth\": 0, \"ticks\": \"\"}}, \"colorscale\": {\"diverging\": [[0, \"#8e0152\"], [0.1, \"#c51b7d\"], [0.2, \"#de77ae\"], [0.3, \"#f1b6da\"], [0.4, \"#fde0ef\"], [0.5, \"#f7f7f7\"], [0.6, \"#e6f5d0\"], [0.7, \"#b8e186\"], [0.8, \"#7fbc41\"], [0.9, \"#4d9221\"], [1, \"#276419\"]], \"sequential\": [[0.0, \"#0d0887\"], [0.1111111111111111, \"#46039f\"], [0.2222222222222222, \"#7201a8\"], [0.3333333333333333, \"#9c179e\"], [0.4444444444444444, \"#bd3786\"], [0.5555555555555556, \"#d8576b\"], [0.6666666666666666, \"#ed7953\"], [0.7777777777777778, \"#fb9f3a\"], [0.8888888888888888, \"#fdca26\"], [1.0, \"#f0f921\"]], \"sequentialminus\": [[0.0, \"#0d0887\"], [0.1111111111111111, \"#46039f\"], [0.2222222222222222, \"#7201a8\"], [0.3333333333333333, \"#9c179e\"], [0.4444444444444444, \"#bd3786\"], [0.5555555555555556, \"#d8576b\"], [0.6666666666666666, \"#ed7953\"], [0.7777777777777778, \"#fb9f3a\"], [0.8888888888888888, \"#fdca26\"], [1.0, \"#f0f921\"]]}, \"colorway\": [\"#636efa\", \"#EF553B\", \"#00cc96\", \"#ab63fa\", \"#FFA15A\", \"#19d3f3\", \"#FF6692\", \"#B6E880\", \"#FF97FF\", \"#FECB52\"], \"font\": {\"color\": \"#2a3f5f\"}, \"geo\": {\"bgcolor\": \"white\", \"lakecolor\": \"white\", \"landcolor\": \"#E5ECF6\", \"showlakes\": true, \"showland\": true, \"subunitcolor\": \"white\"}, \"hoverlabel\": {\"align\": \"left\"}, \"hovermode\": \"closest\", \"mapbox\": {\"style\": \"light\"}, \"paper_bgcolor\": \"white\", \"plot_bgcolor\": \"#E5ECF6\", \"polar\": {\"angularaxis\": {\"gridcolor\": \"white\", \"linecolor\": \"white\", \"ticks\": \"\"}, \"bgcolor\": \"#E5ECF6\", \"radialaxis\": {\"gridcolor\": \"white\", \"linecolor\": \"white\", \"ticks\": \"\"}}, \"scene\": {\"xaxis\": {\"backgroundcolor\": \"#E5ECF6\", \"gridcolor\": \"white\", \"gridwidth\": 2, \"linecolor\": \"white\", \"showbackground\": true, \"ticks\": \"\", \"zerolinecolor\": \"white\"}, \"yaxis\": {\"backgroundcolor\": \"#E5ECF6\", \"gridcolor\": \"white\", \"gridwidth\": 2, \"linecolor\": \"white\", \"showbackground\": true, \"ticks\": \"\", \"zerolinecolor\": \"white\"}, \"zaxis\": {\"backgroundcolor\": \"#E5ECF6\", \"gridcolor\": \"white\", \"gridwidth\": 2, \"linecolor\": \"white\", \"showbackground\": true, \"ticks\": \"\", \"zerolinecolor\": \"white\"}}, \"shapedefaults\": {\"line\": {\"color\": \"#2a3f5f\"}}, \"ternary\": {\"aaxis\": {\"gridcolor\": \"white\", \"linecolor\": \"white\", \"ticks\": \"\"}, \"baxis\": {\"gridcolor\": \"white\", \"linecolor\": \"white\", \"ticks\": \"\"}, \"bgcolor\": \"#E5ECF6\", \"caxis\": {\"gridcolor\": \"white\", \"linecolor\": \"white\", \"ticks\": \"\"}}, \"title\": {\"x\": 0.05}, \"xaxis\": {\"automargin\": true, \"gridcolor\": \"white\", \"linecolor\": \"white\", \"ticks\": \"\", \"title\": {\"standoff\": 15}, \"zerolinecolor\": \"white\", \"zerolinewidth\": 2}, \"yaxis\": {\"automargin\": true, \"gridcolor\": \"white\", \"linecolor\": \"white\", \"ticks\": \"\", \"title\": {\"standoff\": 15}, \"zerolinecolor\": \"white\", \"zerolinewidth\": 2}}}},\n",
              "                        {\"responsive\": true}\n",
              "                    ).then(function(){\n",
              "                            \n",
              "var gd = document.getElementById('acc749d6-3c28-4881-8443-9eb8b10077fe');\n",
              "var x = new MutationObserver(function (mutations, observer) {{\n",
              "        var display = window.getComputedStyle(gd).display;\n",
              "        if (!display || display === 'none') {{\n",
              "            console.log([gd, 'removed!']);\n",
              "            Plotly.purge(gd);\n",
              "            observer.disconnect();\n",
              "        }}\n",
              "}});\n",
              "\n",
              "// Listen for the removal of the full notebook cells\n",
              "var notebookContainer = gd.closest('#notebook-container');\n",
              "if (notebookContainer) {{\n",
              "    x.observe(notebookContainer, {childList: true});\n",
              "}}\n",
              "\n",
              "// Listen for the clearing of the current output cell\n",
              "var outputEl = gd.closest('.output');\n",
              "if (outputEl) {{\n",
              "    x.observe(outputEl, {childList: true});\n",
              "}}\n",
              "\n",
              "                        })\n",
              "                };\n",
              "                \n",
              "            </script>\n",
              "        </div>\n",
              "</body>\n",
              "</html>"
            ]
          },
          "metadata": {
            "tags": []
          }
        }
      ]
    },
    {
      "cell_type": "code",
      "metadata": {
        "id": "U5FBgLlFJ_b-",
        "colab_type": "code",
        "colab": {
          "base_uri": "https://localhost:8080/",
          "height": 542
        },
        "outputId": "d36b1aa7-0a29-4477-8f13-5d73ed83f36f"
      },
      "source": [
        "domain_event2_df = df[['Domain', 'Event2']]\n",
        "domain_event2_df.columns = ['Domain', 'Event']\n",
        "fig = go.Figure(data=[go.Table(\n",
        "    header=dict(values=list(domain_event2_df.columns),\n",
        "                fill_color='paleturquoise',\n",
        "                align='left'),\n",
        "    cells=dict(values=[domain_event2_df.Domain, domain_event2_df.Event],\n",
        "               fill_color='lavender',\n",
        "               align='left'))\n",
        "])\n",
        "\n",
        "fig.show()"
      ],
      "execution_count": null,
      "outputs": [
        {
          "output_type": "display_data",
          "data": {
            "text/html": [
              "<html>\n",
              "<head><meta charset=\"utf-8\" /></head>\n",
              "<body>\n",
              "    <div>\n",
              "            <script src=\"https://cdnjs.cloudflare.com/ajax/libs/mathjax/2.7.5/MathJax.js?config=TeX-AMS-MML_SVG\"></script><script type=\"text/javascript\">if (window.MathJax) {MathJax.Hub.Config({SVG: {font: \"STIX-Web\"}});}</script>\n",
              "                <script type=\"text/javascript\">window.PlotlyConfig = {MathJaxConfig: 'local'};</script>\n",
              "        <script src=\"https://cdn.plot.ly/plotly-latest.min.js\"></script>    \n",
              "            <div id=\"c41d7cf1-ae28-4555-b996-867a5ac8714e\" class=\"plotly-graph-div\" style=\"height:525px; width:100%;\"></div>\n",
              "            <script type=\"text/javascript\">\n",
              "                \n",
              "                    window.PLOTLYENV=window.PLOTLYENV || {};\n",
              "                    \n",
              "                if (document.getElementById(\"c41d7cf1-ae28-4555-b996-867a5ac8714e\")) {\n",
              "                    Plotly.newPlot(\n",
              "                        'c41d7cf1-ae28-4555-b996-867a5ac8714e',\n",
              "                        [{\"cells\": {\"align\": \"left\", \"fill\": {\"color\": \"lavender\"}, \"values\": [[\"Management\", \"Coding\", \"Security\", \"Hardware\", \"Web Development\", \"Higher Education\", \"IoT\", \"Coding\", \"Java\", \"Security\", \"Web Development\", \"Management\", \"Artificial Intelligence\", \"Management\", \"Python\", \"Python\", \"Artificial Intelligence\", \"Finance\", \"Mobile Applications\", \"Higher Education\", \"C++\", \"Software Architecture\", \"Web Development\", \"Python\", \"IoT\", \"Mobile Applications\", \"Finance\", \"Higher Education\", \"Java\", \"Other\", \"Other\", \"Management\", \"Security\", \"Other\", \"C\", \"Java\", \"Cloud Computing\", \"Other\", \"Python\", \"C++\", \"Security\", \"Security\", \"C\", \"Networking\", \"JavaScript\", \"IoT\", \"Hardware\", \"Artificial Intelligence\", \"Mobile Applications\", \"Machine Learning\", \"Blockchain\", \"JavaScript\", \"Machine Learning\", \"Higher Education\", \"Finance\", \"Networking\", \"Cloud Computing\", \"Java\", \"JavaScript\", \"C\", \"Java\", \"Java\", \"Finance\", \"JavaScript\", \"Python\", \"Python\", \"IoT\", \"Coding\", \"Networking\", \"Finance\", \"Cloud Computing\", \"Coding\", \"Software Architecture\", \"IoT\", \"Blockchain\", \"Java\", \"Blockchain\", \"Development Processes\", \"C\", \"Software Architecture\", \"Python\", \"Web Development\", \"Security\", \"Cloud Computing\", \"C++\", \"Cloud Computing\", \"Data Science\", \"Machine Learning\", \"JavaScript\", \"Web Development\", \"IoT\", \"Blockchain\", \"Cloud Computing\", \"C\", \"Python\", \"Mobile Applications\", \"Coding\", \"Management\", \"Web Development\", \"Networking\", \"Security\", \"C\", \"Management\", \"Python\", \"Software Architecture\", \"Networking\", \"Hardware\", \"C++\", \"Cloud Computing\", \"Other\", \"Blockchain\", \"Security\", \"Networking\", \"Coding\", \"Machine Learning\", \"Higher Education\", \"Coding\", \"Finance\", \"C++\", \"Management\", \"Hardware\", \"Development Processes\", \"Cloud Computing\", \"Other\", \"Java\", \"Machine Learning\", \"IoT\", \"Python\", \"IoT\", \"Development Processes\", \"Higher Education\", \"IoT\", \"Coding\", \"Blockchain\", \"Other\", \"Networking\", \"Management\", \"Security\", \"Mobile Applications\", \"Data Science\", \"Cloud Computing\", \"Blockchain\", \"Machine Learning\", \"Blockchain\", \"Development Processes\", \"C++\", \"Web Development\", \"Cloud Computing\", \"Management\", \"Security\", \"C\", \"Finance\", \"Development Processes\", \"Mobile Applications\", \"Mobile Applications\", \"Java\", \"Mobile Applications\", \"Blockchain\", \"C++\", \"Other\", \"Networking\", \"Other\", \"Finance\", \"Development Processes\", \"Other\", \"Machine Learning\", \"Mobile Applications\", \"Security\", \"Coding\", \"C++\", \"Development Processes\", \"Higher Education\", \"Data Science\", \"Cloud Computing\", \"Data Science\", \"Management\", \"Networking\", \"Finance\", \"Coding\", \"Other\", \"Software Architecture\", \"Development Processes\", \"C\"], [\"Hackathons\", \"Webinars\", \"Fests\", \"Webinars\", \"Certifications\", \"Seminars\", \"Courses\", \"Certifications\", \"Expos\", \"Courses\", \"Fests\", \"Certifications\", \"Webinars\", \"Expos\", \"Jobs\", \"Seminars\", \"Trainings\", \"Certifications\", \"Courses\", \"Seminars\", \"Internships\", \"Competitions\", \"Seminars\", \"Internships\", \"Internships\", \"Expos\", \"Seminars\", \"Fests\", \"Certifications\", \"Jobs\", \"Competitions\", \"Expos\", \"Trainings\", \"Certifications\", \"Internships\", \"Fests\", \"Courses\", \"Jobs\", \"Expos\", \"Seminars\", \"Internships\", \"Talks\", \"Courses\", \"Certifications\", \"Seminars\", \"Courses\", \"Jobs\", \"Courses\", \"Expos\", \"Hackathons\", \"Hackathons\", \"Seminars\", \"Fests\", \"Talks\", \"Jobs\", \"Expos\", \"Jobs\", \"Talks\", \"Competitions\", \"Seminars\", \"Seminars\", \"Trainings\", \"Fests\", \"Courses\", \"Certifications\", \"Courses\", \"Hackathons\", \"Hackathons\", \"Certifications\", \"Internships\", \"Internships\", \"Fests\", \"Fests\", \"Fests\", \"Workshops\", \"Webinars\", \"Competitions\", \"Talks\", \"Expos\", \"Hackathons\", \"Competitions\", \"Competitions\", \"Internships\", \"Webinars\", \"Webinars\", \"Internships\", \"Jobs\", \"Hackathons\", \"Competitions\", \"Competitions\", \"Internships\", \"Courses\", \"Jobs\", \"Competitions\", \"Workshops\", \"Courses\", \"Webinars\", \"Jobs\", \"Courses\", \"Internships\", \"Workshops\", \"Expos\", \"Jobs\", \"Workshops\", \"Internships\", \"Jobs\", \"Webinars\", \"Seminars\", \"Internships\", \"Courses\", \"Jobs\", \"Jobs\", \"Internships\", \"Expos\", \"Internships\", \"Workshops\", \"Talks\", \"Competitions\", \"Hackathons\", \"Trainings\", \"Trainings\", \"Hackathons\", \"Seminars\", \"Competitions\", \"Internships\", \"Competitions\", \"Expos\", \"Workshops\", \"Expos\", \"Courses\", \"Fests\", \"Talks\", \"Competitions\", \"Workshops\", \"Courses\", \"Talks\", \"Talks\", \"Internships\", \"Talks\", \"Jobs\", \"Talks\", \"Courses\", \"Fests\", \"Certifications\", \"Expos\", \"Jobs\", \"Certifications\", \"Competitions\", \"Hackathons\", \"Jobs\", \"Workshops\", \"Internships\", \"Trainings\", \"Seminars\", \"Seminars\", \"Certifications\", \"Trainings\", \"Hackathons\", \"Courses\", \"Fests\", \"Competitions\", \"Certifications\", \"Fests\", \"Fests\", \"Seminars\", \"Trainings\", \"Talks\", \"Expos\", \"Talks\", \"Workshops\", \"Courses\", \"Fests\", \"Fests\", \"Webinars\", \"Hackathons\", \"Webinars\", \"Competitions\", \"Trainings\", \"Webinars\", \"Fests\", \"Fests\", \"Seminars\", \"Internships\"]]}, \"header\": {\"align\": \"left\", \"fill\": {\"color\": \"paleturquoise\"}, \"values\": [\"Domain\", \"Event\"]}, \"type\": \"table\"}],\n",
              "                        {\"template\": {\"data\": {\"bar\": [{\"error_x\": {\"color\": \"#2a3f5f\"}, \"error_y\": {\"color\": \"#2a3f5f\"}, \"marker\": {\"line\": {\"color\": \"#E5ECF6\", \"width\": 0.5}}, \"type\": \"bar\"}], \"barpolar\": [{\"marker\": {\"line\": {\"color\": \"#E5ECF6\", \"width\": 0.5}}, \"type\": \"barpolar\"}], \"carpet\": [{\"aaxis\": {\"endlinecolor\": \"#2a3f5f\", \"gridcolor\": \"white\", \"linecolor\": \"white\", \"minorgridcolor\": \"white\", \"startlinecolor\": \"#2a3f5f\"}, \"baxis\": {\"endlinecolor\": \"#2a3f5f\", \"gridcolor\": \"white\", \"linecolor\": \"white\", \"minorgridcolor\": \"white\", \"startlinecolor\": \"#2a3f5f\"}, \"type\": \"carpet\"}], \"choropleth\": [{\"colorbar\": {\"outlinewidth\": 0, \"ticks\": \"\"}, \"type\": \"choropleth\"}], \"contour\": [{\"colorbar\": {\"outlinewidth\": 0, \"ticks\": \"\"}, \"colorscale\": [[0.0, \"#0d0887\"], [0.1111111111111111, \"#46039f\"], [0.2222222222222222, \"#7201a8\"], [0.3333333333333333, \"#9c179e\"], [0.4444444444444444, \"#bd3786\"], [0.5555555555555556, \"#d8576b\"], [0.6666666666666666, \"#ed7953\"], [0.7777777777777778, \"#fb9f3a\"], [0.8888888888888888, \"#fdca26\"], [1.0, \"#f0f921\"]], \"type\": \"contour\"}], \"contourcarpet\": [{\"colorbar\": {\"outlinewidth\": 0, \"ticks\": \"\"}, \"type\": \"contourcarpet\"}], \"heatmap\": [{\"colorbar\": {\"outlinewidth\": 0, \"ticks\": \"\"}, \"colorscale\": [[0.0, \"#0d0887\"], [0.1111111111111111, \"#46039f\"], [0.2222222222222222, \"#7201a8\"], [0.3333333333333333, \"#9c179e\"], [0.4444444444444444, \"#bd3786\"], [0.5555555555555556, \"#d8576b\"], [0.6666666666666666, \"#ed7953\"], [0.7777777777777778, \"#fb9f3a\"], [0.8888888888888888, \"#fdca26\"], [1.0, \"#f0f921\"]], \"type\": \"heatmap\"}], \"heatmapgl\": [{\"colorbar\": {\"outlinewidth\": 0, \"ticks\": \"\"}, \"colorscale\": [[0.0, \"#0d0887\"], [0.1111111111111111, \"#46039f\"], [0.2222222222222222, \"#7201a8\"], [0.3333333333333333, \"#9c179e\"], [0.4444444444444444, \"#bd3786\"], [0.5555555555555556, \"#d8576b\"], [0.6666666666666666, \"#ed7953\"], [0.7777777777777778, \"#fb9f3a\"], [0.8888888888888888, \"#fdca26\"], [1.0, \"#f0f921\"]], \"type\": \"heatmapgl\"}], \"histogram\": [{\"marker\": {\"colorbar\": {\"outlinewidth\": 0, \"ticks\": \"\"}}, \"type\": \"histogram\"}], \"histogram2d\": [{\"colorbar\": {\"outlinewidth\": 0, \"ticks\": \"\"}, \"colorscale\": [[0.0, \"#0d0887\"], [0.1111111111111111, \"#46039f\"], [0.2222222222222222, \"#7201a8\"], [0.3333333333333333, \"#9c179e\"], [0.4444444444444444, \"#bd3786\"], [0.5555555555555556, \"#d8576b\"], [0.6666666666666666, \"#ed7953\"], [0.7777777777777778, \"#fb9f3a\"], [0.8888888888888888, \"#fdca26\"], [1.0, \"#f0f921\"]], \"type\": \"histogram2d\"}], \"histogram2dcontour\": [{\"colorbar\": {\"outlinewidth\": 0, \"ticks\": \"\"}, \"colorscale\": [[0.0, \"#0d0887\"], [0.1111111111111111, \"#46039f\"], [0.2222222222222222, \"#7201a8\"], [0.3333333333333333, \"#9c179e\"], [0.4444444444444444, \"#bd3786\"], [0.5555555555555556, \"#d8576b\"], [0.6666666666666666, \"#ed7953\"], [0.7777777777777778, \"#fb9f3a\"], [0.8888888888888888, \"#fdca26\"], [1.0, \"#f0f921\"]], \"type\": \"histogram2dcontour\"}], \"mesh3d\": [{\"colorbar\": {\"outlinewidth\": 0, \"ticks\": \"\"}, \"type\": \"mesh3d\"}], \"parcoords\": [{\"line\": {\"colorbar\": {\"outlinewidth\": 0, \"ticks\": \"\"}}, \"type\": \"parcoords\"}], \"pie\": [{\"automargin\": true, \"type\": \"pie\"}], \"scatter\": [{\"marker\": {\"colorbar\": {\"outlinewidth\": 0, \"ticks\": \"\"}}, \"type\": \"scatter\"}], \"scatter3d\": [{\"line\": {\"colorbar\": {\"outlinewidth\": 0, \"ticks\": \"\"}}, \"marker\": {\"colorbar\": {\"outlinewidth\": 0, \"ticks\": \"\"}}, \"type\": \"scatter3d\"}], \"scattercarpet\": [{\"marker\": {\"colorbar\": {\"outlinewidth\": 0, \"ticks\": \"\"}}, \"type\": \"scattercarpet\"}], \"scattergeo\": [{\"marker\": {\"colorbar\": {\"outlinewidth\": 0, \"ticks\": \"\"}}, \"type\": \"scattergeo\"}], \"scattergl\": [{\"marker\": {\"colorbar\": {\"outlinewidth\": 0, \"ticks\": \"\"}}, \"type\": \"scattergl\"}], \"scattermapbox\": [{\"marker\": {\"colorbar\": {\"outlinewidth\": 0, \"ticks\": \"\"}}, \"type\": \"scattermapbox\"}], \"scatterpolar\": [{\"marker\": {\"colorbar\": {\"outlinewidth\": 0, \"ticks\": \"\"}}, \"type\": \"scatterpolar\"}], \"scatterpolargl\": [{\"marker\": {\"colorbar\": {\"outlinewidth\": 0, \"ticks\": \"\"}}, \"type\": \"scatterpolargl\"}], \"scatterternary\": [{\"marker\": {\"colorbar\": {\"outlinewidth\": 0, \"ticks\": \"\"}}, \"type\": \"scatterternary\"}], \"surface\": [{\"colorbar\": {\"outlinewidth\": 0, \"ticks\": \"\"}, \"colorscale\": [[0.0, \"#0d0887\"], [0.1111111111111111, \"#46039f\"], [0.2222222222222222, \"#7201a8\"], [0.3333333333333333, \"#9c179e\"], [0.4444444444444444, \"#bd3786\"], [0.5555555555555556, \"#d8576b\"], [0.6666666666666666, \"#ed7953\"], [0.7777777777777778, \"#fb9f3a\"], [0.8888888888888888, \"#fdca26\"], [1.0, \"#f0f921\"]], \"type\": \"surface\"}], \"table\": [{\"cells\": {\"fill\": {\"color\": \"#EBF0F8\"}, \"line\": {\"color\": \"white\"}}, \"header\": {\"fill\": {\"color\": \"#C8D4E3\"}, \"line\": {\"color\": \"white\"}}, \"type\": \"table\"}]}, \"layout\": {\"annotationdefaults\": {\"arrowcolor\": \"#2a3f5f\", \"arrowhead\": 0, \"arrowwidth\": 1}, \"coloraxis\": {\"colorbar\": {\"outlinewidth\": 0, \"ticks\": \"\"}}, \"colorscale\": {\"diverging\": [[0, \"#8e0152\"], [0.1, \"#c51b7d\"], [0.2, \"#de77ae\"], [0.3, \"#f1b6da\"], [0.4, \"#fde0ef\"], [0.5, \"#f7f7f7\"], [0.6, \"#e6f5d0\"], [0.7, \"#b8e186\"], [0.8, \"#7fbc41\"], [0.9, \"#4d9221\"], [1, \"#276419\"]], \"sequential\": [[0.0, \"#0d0887\"], [0.1111111111111111, \"#46039f\"], [0.2222222222222222, \"#7201a8\"], [0.3333333333333333, \"#9c179e\"], [0.4444444444444444, \"#bd3786\"], [0.5555555555555556, \"#d8576b\"], [0.6666666666666666, \"#ed7953\"], [0.7777777777777778, \"#fb9f3a\"], [0.8888888888888888, \"#fdca26\"], [1.0, \"#f0f921\"]], \"sequentialminus\": [[0.0, \"#0d0887\"], [0.1111111111111111, \"#46039f\"], [0.2222222222222222, \"#7201a8\"], [0.3333333333333333, \"#9c179e\"], [0.4444444444444444, \"#bd3786\"], [0.5555555555555556, \"#d8576b\"], [0.6666666666666666, \"#ed7953\"], [0.7777777777777778, \"#fb9f3a\"], [0.8888888888888888, \"#fdca26\"], [1.0, \"#f0f921\"]]}, \"colorway\": [\"#636efa\", \"#EF553B\", \"#00cc96\", \"#ab63fa\", \"#FFA15A\", \"#19d3f3\", \"#FF6692\", \"#B6E880\", \"#FF97FF\", \"#FECB52\"], \"font\": {\"color\": \"#2a3f5f\"}, \"geo\": {\"bgcolor\": \"white\", \"lakecolor\": \"white\", \"landcolor\": \"#E5ECF6\", \"showlakes\": true, \"showland\": true, \"subunitcolor\": \"white\"}, \"hoverlabel\": {\"align\": \"left\"}, \"hovermode\": \"closest\", \"mapbox\": {\"style\": \"light\"}, \"paper_bgcolor\": \"white\", \"plot_bgcolor\": \"#E5ECF6\", \"polar\": {\"angularaxis\": {\"gridcolor\": \"white\", \"linecolor\": \"white\", \"ticks\": \"\"}, \"bgcolor\": \"#E5ECF6\", \"radialaxis\": {\"gridcolor\": \"white\", \"linecolor\": \"white\", \"ticks\": \"\"}}, \"scene\": {\"xaxis\": {\"backgroundcolor\": \"#E5ECF6\", \"gridcolor\": \"white\", \"gridwidth\": 2, \"linecolor\": \"white\", \"showbackground\": true, \"ticks\": \"\", \"zerolinecolor\": \"white\"}, \"yaxis\": {\"backgroundcolor\": \"#E5ECF6\", \"gridcolor\": \"white\", \"gridwidth\": 2, \"linecolor\": \"white\", \"showbackground\": true, \"ticks\": \"\", \"zerolinecolor\": \"white\"}, \"zaxis\": {\"backgroundcolor\": \"#E5ECF6\", \"gridcolor\": \"white\", \"gridwidth\": 2, \"linecolor\": \"white\", \"showbackground\": true, \"ticks\": \"\", \"zerolinecolor\": \"white\"}}, \"shapedefaults\": {\"line\": {\"color\": \"#2a3f5f\"}}, \"ternary\": {\"aaxis\": {\"gridcolor\": \"white\", \"linecolor\": \"white\", \"ticks\": \"\"}, \"baxis\": {\"gridcolor\": \"white\", \"linecolor\": \"white\", \"ticks\": \"\"}, \"bgcolor\": \"#E5ECF6\", \"caxis\": {\"gridcolor\": \"white\", \"linecolor\": \"white\", \"ticks\": \"\"}}, \"title\": {\"x\": 0.05}, \"xaxis\": {\"automargin\": true, \"gridcolor\": \"white\", \"linecolor\": \"white\", \"ticks\": \"\", \"title\": {\"standoff\": 15}, \"zerolinecolor\": \"white\", \"zerolinewidth\": 2}, \"yaxis\": {\"automargin\": true, \"gridcolor\": \"white\", \"linecolor\": \"white\", \"ticks\": \"\", \"title\": {\"standoff\": 15}, \"zerolinecolor\": \"white\", \"zerolinewidth\": 2}}}},\n",
              "                        {\"responsive\": true}\n",
              "                    ).then(function(){\n",
              "                            \n",
              "var gd = document.getElementById('c41d7cf1-ae28-4555-b996-867a5ac8714e');\n",
              "var x = new MutationObserver(function (mutations, observer) {{\n",
              "        var display = window.getComputedStyle(gd).display;\n",
              "        if (!display || display === 'none') {{\n",
              "            console.log([gd, 'removed!']);\n",
              "            Plotly.purge(gd);\n",
              "            observer.disconnect();\n",
              "        }}\n",
              "}});\n",
              "\n",
              "// Listen for the removal of the full notebook cells\n",
              "var notebookContainer = gd.closest('#notebook-container');\n",
              "if (notebookContainer) {{\n",
              "    x.observe(notebookContainer, {childList: true});\n",
              "}}\n",
              "\n",
              "// Listen for the clearing of the current output cell\n",
              "var outputEl = gd.closest('.output');\n",
              "if (outputEl) {{\n",
              "    x.observe(outputEl, {childList: true});\n",
              "}}\n",
              "\n",
              "                        })\n",
              "                };\n",
              "                \n",
              "            </script>\n",
              "        </div>\n",
              "</body>\n",
              "</html>"
            ]
          },
          "metadata": {
            "tags": []
          }
        }
      ]
    },
    {
      "cell_type": "code",
      "metadata": {
        "id": "ElkVd7K3KkQD",
        "colab_type": "code",
        "colab": {
          "base_uri": "https://localhost:8080/",
          "height": 542
        },
        "outputId": "66a30ee8-4347-4f4e-8e5c-e7cbff7488e4"
      },
      "source": [
        "domain_event = pd.concat([domain_event1_df, domain_event2_df])\n",
        "\n",
        "fig = go.Figure(data=[go.Table(\n",
        "    header=dict(values=list(domain_event.columns),\n",
        "                fill_color='paleturquoise',\n",
        "                align='left'),\n",
        "    cells=dict(values=[domain_event.Domain, domain_event.Event],\n",
        "               fill_color='lavender',\n",
        "               align='left'))\n",
        "])\n",
        "\n",
        "fig.show()"
      ],
      "execution_count": null,
      "outputs": [
        {
          "output_type": "display_data",
          "data": {
            "text/html": [
              "<html>\n",
              "<head><meta charset=\"utf-8\" /></head>\n",
              "<body>\n",
              "    <div>\n",
              "            <script src=\"https://cdnjs.cloudflare.com/ajax/libs/mathjax/2.7.5/MathJax.js?config=TeX-AMS-MML_SVG\"></script><script type=\"text/javascript\">if (window.MathJax) {MathJax.Hub.Config({SVG: {font: \"STIX-Web\"}});}</script>\n",
              "                <script type=\"text/javascript\">window.PlotlyConfig = {MathJaxConfig: 'local'};</script>\n",
              "        <script src=\"https://cdn.plot.ly/plotly-latest.min.js\"></script>    \n",
              "            <div id=\"c4c96929-c307-4fad-8fe7-58a214e64d2f\" class=\"plotly-graph-div\" style=\"height:525px; width:100%;\"></div>\n",
              "            <script type=\"text/javascript\">\n",
              "                \n",
              "                    window.PLOTLYENV=window.PLOTLYENV || {};\n",
              "                    \n",
              "                if (document.getElementById(\"c4c96929-c307-4fad-8fe7-58a214e64d2f\")) {\n",
              "                    Plotly.newPlot(\n",
              "                        'c4c96929-c307-4fad-8fe7-58a214e64d2f',\n",
              "                        [{\"cells\": {\"align\": \"left\", \"fill\": {\"color\": \"lavender\"}, \"values\": [[\"Management\", \"Coding\", \"Security\", \"Hardware\", \"Web Development\", \"Higher Education\", \"IoT\", \"Coding\", \"Java\", \"Security\", \"Web Development\", \"Management\", \"Artificial Intelligence\", \"Management\", \"Python\", \"Python\", \"Artificial Intelligence\", \"Finance\", \"Mobile Applications\", \"Higher Education\", \"C++\", \"Software Architecture\", \"Web Development\", \"Python\", \"IoT\", \"Mobile Applications\", \"Finance\", \"Higher Education\", \"Java\", \"Other\", \"Other\", \"Management\", \"Security\", \"Other\", \"C\", \"Java\", \"Cloud Computing\", \"Other\", \"Python\", \"C++\", \"Security\", \"Security\", \"C\", \"Networking\", \"JavaScript\", \"IoT\", \"Hardware\", \"Artificial Intelligence\", \"Mobile Applications\", \"Machine Learning\", \"Blockchain\", \"JavaScript\", \"Machine Learning\", \"Higher Education\", \"Finance\", \"Networking\", \"Cloud Computing\", \"Java\", \"JavaScript\", \"C\", \"Java\", \"Java\", \"Finance\", \"JavaScript\", \"Python\", \"Python\", \"IoT\", \"Coding\", \"Networking\", \"Finance\", \"Cloud Computing\", \"Coding\", \"Software Architecture\", \"IoT\", \"Blockchain\", \"Java\", \"Blockchain\", \"Development Processes\", \"C\", \"Software Architecture\", \"Python\", \"Web Development\", \"Security\", \"Cloud Computing\", \"C++\", \"Cloud Computing\", \"Data Science\", \"Machine Learning\", \"JavaScript\", \"Web Development\", \"IoT\", \"Blockchain\", \"Cloud Computing\", \"C\", \"Python\", \"Mobile Applications\", \"Coding\", \"Management\", \"Web Development\", \"Networking\", \"Security\", \"C\", \"Management\", \"Python\", \"Software Architecture\", \"Networking\", \"Hardware\", \"C++\", \"Cloud Computing\", \"Other\", \"Blockchain\", \"Security\", \"Networking\", \"Coding\", \"Machine Learning\", \"Higher Education\", \"Coding\", \"Finance\", \"C++\", \"Management\", \"Hardware\", \"Development Processes\", \"Cloud Computing\", \"Other\", \"Java\", \"Machine Learning\", \"IoT\", \"Python\", \"IoT\", \"Development Processes\", \"Higher Education\", \"IoT\", \"Coding\", \"Blockchain\", \"Other\", \"Networking\", \"Management\", \"Security\", \"Mobile Applications\", \"Data Science\", \"Cloud Computing\", \"Blockchain\", \"Machine Learning\", \"Blockchain\", \"Development Processes\", \"C++\", \"Web Development\", \"Cloud Computing\", \"Management\", \"Security\", \"C\", \"Finance\", \"Development Processes\", \"Mobile Applications\", \"Mobile Applications\", \"Java\", \"Mobile Applications\", \"Blockchain\", \"C++\", \"Other\", \"Networking\", \"Other\", \"Finance\", \"Development Processes\", \"Other\", \"Machine Learning\", \"Mobile Applications\", \"Security\", \"Coding\", \"C++\", \"Development Processes\", \"Higher Education\", \"Data Science\", \"Cloud Computing\", \"Data Science\", \"Management\", \"Networking\", \"Finance\", \"Coding\", \"Other\", \"Software Architecture\", \"Development Processes\", \"C\", \"Management\", \"Coding\", \"Security\", \"Hardware\", \"Web Development\", \"Higher Education\", \"IoT\", \"Coding\", \"Java\", \"Security\", \"Web Development\", \"Management\", \"Artificial Intelligence\", \"Management\", \"Python\", \"Python\", \"Artificial Intelligence\", \"Finance\", \"Mobile Applications\", \"Higher Education\", \"C++\", \"Software Architecture\", \"Web Development\", \"Python\", \"IoT\", \"Mobile Applications\", \"Finance\", \"Higher Education\", \"Java\", \"Other\", \"Other\", \"Management\", \"Security\", \"Other\", \"C\", \"Java\", \"Cloud Computing\", \"Other\", \"Python\", \"C++\", \"Security\", \"Security\", \"C\", \"Networking\", \"JavaScript\", \"IoT\", \"Hardware\", \"Artificial Intelligence\", \"Mobile Applications\", \"Machine Learning\", \"Blockchain\", \"JavaScript\", \"Machine Learning\", \"Higher Education\", \"Finance\", \"Networking\", \"Cloud Computing\", \"Java\", \"JavaScript\", \"C\", \"Java\", \"Java\", \"Finance\", \"JavaScript\", \"Python\", \"Python\", \"IoT\", \"Coding\", \"Networking\", \"Finance\", \"Cloud Computing\", \"Coding\", \"Software Architecture\", \"IoT\", \"Blockchain\", \"Java\", \"Blockchain\", \"Development Processes\", \"C\", \"Software Architecture\", \"Python\", \"Web Development\", \"Security\", \"Cloud Computing\", \"C++\", \"Cloud Computing\", \"Data Science\", \"Machine Learning\", \"JavaScript\", \"Web Development\", \"IoT\", \"Blockchain\", \"Cloud Computing\", \"C\", \"Python\", \"Mobile Applications\", \"Coding\", \"Management\", \"Web Development\", \"Networking\", \"Security\", \"C\", \"Management\", \"Python\", \"Software Architecture\", \"Networking\", \"Hardware\", \"C++\", \"Cloud Computing\", \"Other\", \"Blockchain\", \"Security\", \"Networking\", \"Coding\", \"Machine Learning\", \"Higher Education\", \"Coding\", \"Finance\", \"C++\", \"Management\", \"Hardware\", \"Development Processes\", \"Cloud Computing\", \"Other\", \"Java\", \"Machine Learning\", \"IoT\", \"Python\", \"IoT\", \"Development Processes\", \"Higher Education\", \"IoT\", \"Coding\", \"Blockchain\", \"Other\", \"Networking\", \"Management\", \"Security\", \"Mobile Applications\", \"Data Science\", \"Cloud Computing\", \"Blockchain\", \"Machine Learning\", \"Blockchain\", \"Development Processes\", \"C++\", \"Web Development\", \"Cloud Computing\", \"Management\", \"Security\", \"C\", \"Finance\", \"Development Processes\", \"Mobile Applications\", \"Mobile Applications\", \"Java\", \"Mobile Applications\", \"Blockchain\", \"C++\", \"Other\", \"Networking\", \"Other\", \"Finance\", \"Development Processes\", \"Other\", \"Machine Learning\", \"Mobile Applications\", \"Security\", \"Coding\", \"C++\", \"Development Processes\", \"Higher Education\", \"Data Science\", \"Cloud Computing\", \"Data Science\", \"Management\", \"Networking\", \"Finance\", \"Coding\", \"Other\", \"Software Architecture\", \"Development Processes\", \"C\"], [\"Jobs\", \"Certifications\", \"Internships\", \"Competitions\", \"Expos\", \"Workshops\", \"Certifications\", \"Jobs\", \"Trainings\", \"Certifications\", \"Internships\", \"Jobs\", \"Expos\", \"Seminars\", \"Hackathons\", \"Workshops\", \"Competitions\", \"Fests\", \"Certifications\", \"Internships\", \"Fests\", \"Seminars\", \"Trainings\", \"Seminars\", \"Expos\", \"Competitions\", \"Workshops\", \"Competitions\", \"Seminars\", \"Seminars\", \"Trainings\", \"Trainings\", \"Talks\", \"Webinars\", \"Expos\", \"Expos\", \"Hackathons\", \"Talks\", \"Courses\", \"Talks\", \"Competitions\", \"Certifications\", \"Hackathons\", \"Competitions\", \"Jobs\", \"Internships\", \"Workshops\", \"Workshops\", \"Talks\", \"Fests\", \"Fests\", \"Internships\", \"Webinars\", \"Competitions\", \"Trainings\", \"Talks\", \"Talks\", \"Courses\", \"Expos\", \"Talks\", \"Trainings\", \"Expos\", \"Seminars\", \"Competitions\", \"Talks\", \"Webinars\", \"Webinars\", \"Jobs\", \"Competitions\", \"Competitions\", \"Workshops\", \"Internships\", \"Internships\", \"Hackathons\", \"Internships\", \"Certifications\", \"Certifications\", \"Certifications\", \"Fests\", \"Certifications\", \"Webinars\", \"Internships\", \"Jobs\", \"Courses\", \"Courses\", \"Expos\", \"Hackathons\", \"Internships\", \"Trainings\", \"Workshops\", \"Courses\", \"Workshops\", \"Trainings\", \"Seminars\", \"Jobs\", \"Competitions\", \"Seminars\", \"Courses\", \"Trainings\", \"Fests\", \"Seminars\", \"Hackathons\", \"Hackathons\", \"Fests\", \"Workshops\", \"Certifications\", \"Competitions\", \"Jobs\", \"Workshops\", \"Expos\", \"Seminars\", \"Workshops\", \"Webinars\", \"Competitions\", \"Expos\", \"Trainings\", \"Webinars\", \"Hackathons\", \"Workshops\", \"Fests\", \"Internships\", \"Fests\", \"Workshops\", \"Jobs\", \"Competitions\", \"Internships\", \"Trainings\", \"Hackathons\", \"Trainings\", \"Webinars\", \"Expos\", \"Expos\", \"Expos\", \"Hackathons\", \"Expos\", \"Jobs\", \"Expos\", \"Talks\", \"Internships\", \"Talks\", \"Seminars\", \"Trainings\", \"Internships\", \"Expos\", \"Jobs\", \"Internships\", \"Expos\", \"Fests\", \"Jobs\", \"Competitions\", \"Competitions\", \"Trainings\", \"Expos\", \"Jobs\", \"Competitions\", \"Webinars\", \"Certifications\", \"Talks\", \"Internships\", \"Webinars\", \"Hackathons\", \"Webinars\", \"Internships\", \"Expos\", \"Certifications\", \"Jobs\", \"Fests\", \"Hackathons\", \"Fests\", \"Talks\", \"Seminars\", \"Competitions\", \"Expos\", \"Expos\", \"Internships\", \"Expos\", \"Internships\", \"Seminars\", \"Courses\", \"Talks\", \"Talks\", \"Trainings\", \"Seminars\", \"Hackathons\", \"Webinars\", \"Fests\", \"Webinars\", \"Certifications\", \"Seminars\", \"Courses\", \"Certifications\", \"Expos\", \"Courses\", \"Fests\", \"Certifications\", \"Webinars\", \"Expos\", \"Jobs\", \"Seminars\", \"Trainings\", \"Certifications\", \"Courses\", \"Seminars\", \"Internships\", \"Competitions\", \"Seminars\", \"Internships\", \"Internships\", \"Expos\", \"Seminars\", \"Fests\", \"Certifications\", \"Jobs\", \"Competitions\", \"Expos\", \"Trainings\", \"Certifications\", \"Internships\", \"Fests\", \"Courses\", \"Jobs\", \"Expos\", \"Seminars\", \"Internships\", \"Talks\", \"Courses\", \"Certifications\", \"Seminars\", \"Courses\", \"Jobs\", \"Courses\", \"Expos\", \"Hackathons\", \"Hackathons\", \"Seminars\", \"Fests\", \"Talks\", \"Jobs\", \"Expos\", \"Jobs\", \"Talks\", \"Competitions\", \"Seminars\", \"Seminars\", \"Trainings\", \"Fests\", \"Courses\", \"Certifications\", \"Courses\", \"Hackathons\", \"Hackathons\", \"Certifications\", \"Internships\", \"Internships\", \"Fests\", \"Fests\", \"Fests\", \"Workshops\", \"Webinars\", \"Competitions\", \"Talks\", \"Expos\", \"Hackathons\", \"Competitions\", \"Competitions\", \"Internships\", \"Webinars\", \"Webinars\", \"Internships\", \"Jobs\", \"Hackathons\", \"Competitions\", \"Competitions\", \"Internships\", \"Courses\", \"Jobs\", \"Competitions\", \"Workshops\", \"Courses\", \"Webinars\", \"Jobs\", \"Courses\", \"Internships\", \"Workshops\", \"Expos\", \"Jobs\", \"Workshops\", \"Internships\", \"Jobs\", \"Webinars\", \"Seminars\", \"Internships\", \"Courses\", \"Jobs\", \"Jobs\", \"Internships\", \"Expos\", \"Internships\", \"Workshops\", \"Talks\", \"Competitions\", \"Hackathons\", \"Trainings\", \"Trainings\", \"Hackathons\", \"Seminars\", \"Competitions\", \"Internships\", \"Competitions\", \"Expos\", \"Workshops\", \"Expos\", \"Courses\", \"Fests\", \"Talks\", \"Competitions\", \"Workshops\", \"Courses\", \"Talks\", \"Talks\", \"Internships\", \"Talks\", \"Jobs\", \"Talks\", \"Courses\", \"Fests\", \"Certifications\", \"Expos\", \"Jobs\", \"Certifications\", \"Competitions\", \"Hackathons\", \"Jobs\", \"Workshops\", \"Internships\", \"Trainings\", \"Seminars\", \"Seminars\", \"Certifications\", \"Trainings\", \"Hackathons\", \"Courses\", \"Fests\", \"Competitions\", \"Certifications\", \"Fests\", \"Fests\", \"Seminars\", \"Trainings\", \"Talks\", \"Expos\", \"Talks\", \"Workshops\", \"Courses\", \"Fests\", \"Fests\", \"Webinars\", \"Hackathons\", \"Webinars\", \"Competitions\", \"Trainings\", \"Webinars\", \"Fests\", \"Fests\", \"Seminars\", \"Internships\"]]}, \"header\": {\"align\": \"left\", \"fill\": {\"color\": \"paleturquoise\"}, \"values\": [\"Domain\", \"Event\"]}, \"type\": \"table\"}],\n",
              "                        {\"template\": {\"data\": {\"bar\": [{\"error_x\": {\"color\": \"#2a3f5f\"}, \"error_y\": {\"color\": \"#2a3f5f\"}, \"marker\": {\"line\": {\"color\": \"#E5ECF6\", \"width\": 0.5}}, \"type\": \"bar\"}], \"barpolar\": [{\"marker\": {\"line\": {\"color\": \"#E5ECF6\", \"width\": 0.5}}, \"type\": \"barpolar\"}], \"carpet\": [{\"aaxis\": {\"endlinecolor\": \"#2a3f5f\", \"gridcolor\": \"white\", \"linecolor\": \"white\", \"minorgridcolor\": \"white\", \"startlinecolor\": \"#2a3f5f\"}, \"baxis\": {\"endlinecolor\": \"#2a3f5f\", \"gridcolor\": \"white\", \"linecolor\": \"white\", \"minorgridcolor\": \"white\", \"startlinecolor\": \"#2a3f5f\"}, \"type\": \"carpet\"}], \"choropleth\": [{\"colorbar\": {\"outlinewidth\": 0, \"ticks\": \"\"}, \"type\": \"choropleth\"}], \"contour\": [{\"colorbar\": {\"outlinewidth\": 0, \"ticks\": \"\"}, \"colorscale\": [[0.0, \"#0d0887\"], [0.1111111111111111, \"#46039f\"], [0.2222222222222222, \"#7201a8\"], [0.3333333333333333, \"#9c179e\"], [0.4444444444444444, \"#bd3786\"], [0.5555555555555556, \"#d8576b\"], [0.6666666666666666, \"#ed7953\"], [0.7777777777777778, \"#fb9f3a\"], [0.8888888888888888, \"#fdca26\"], [1.0, \"#f0f921\"]], \"type\": \"contour\"}], \"contourcarpet\": [{\"colorbar\": {\"outlinewidth\": 0, \"ticks\": \"\"}, \"type\": \"contourcarpet\"}], \"heatmap\": [{\"colorbar\": {\"outlinewidth\": 0, \"ticks\": \"\"}, \"colorscale\": [[0.0, \"#0d0887\"], [0.1111111111111111, \"#46039f\"], [0.2222222222222222, \"#7201a8\"], [0.3333333333333333, \"#9c179e\"], [0.4444444444444444, \"#bd3786\"], [0.5555555555555556, \"#d8576b\"], [0.6666666666666666, \"#ed7953\"], [0.7777777777777778, \"#fb9f3a\"], [0.8888888888888888, \"#fdca26\"], [1.0, \"#f0f921\"]], \"type\": \"heatmap\"}], \"heatmapgl\": [{\"colorbar\": {\"outlinewidth\": 0, \"ticks\": \"\"}, \"colorscale\": [[0.0, \"#0d0887\"], [0.1111111111111111, \"#46039f\"], [0.2222222222222222, \"#7201a8\"], [0.3333333333333333, \"#9c179e\"], [0.4444444444444444, \"#bd3786\"], [0.5555555555555556, \"#d8576b\"], [0.6666666666666666, \"#ed7953\"], [0.7777777777777778, \"#fb9f3a\"], [0.8888888888888888, \"#fdca26\"], [1.0, \"#f0f921\"]], \"type\": \"heatmapgl\"}], \"histogram\": [{\"marker\": {\"colorbar\": {\"outlinewidth\": 0, \"ticks\": \"\"}}, \"type\": \"histogram\"}], \"histogram2d\": [{\"colorbar\": {\"outlinewidth\": 0, \"ticks\": \"\"}, \"colorscale\": [[0.0, \"#0d0887\"], [0.1111111111111111, \"#46039f\"], [0.2222222222222222, \"#7201a8\"], [0.3333333333333333, \"#9c179e\"], [0.4444444444444444, \"#bd3786\"], [0.5555555555555556, \"#d8576b\"], [0.6666666666666666, \"#ed7953\"], [0.7777777777777778, \"#fb9f3a\"], [0.8888888888888888, \"#fdca26\"], [1.0, \"#f0f921\"]], \"type\": \"histogram2d\"}], \"histogram2dcontour\": [{\"colorbar\": {\"outlinewidth\": 0, \"ticks\": \"\"}, \"colorscale\": [[0.0, \"#0d0887\"], [0.1111111111111111, \"#46039f\"], [0.2222222222222222, \"#7201a8\"], [0.3333333333333333, \"#9c179e\"], [0.4444444444444444, \"#bd3786\"], [0.5555555555555556, \"#d8576b\"], [0.6666666666666666, \"#ed7953\"], [0.7777777777777778, \"#fb9f3a\"], [0.8888888888888888, \"#fdca26\"], [1.0, \"#f0f921\"]], \"type\": \"histogram2dcontour\"}], \"mesh3d\": [{\"colorbar\": {\"outlinewidth\": 0, \"ticks\": \"\"}, \"type\": \"mesh3d\"}], \"parcoords\": [{\"line\": {\"colorbar\": {\"outlinewidth\": 0, \"ticks\": \"\"}}, \"type\": \"parcoords\"}], \"pie\": [{\"automargin\": true, \"type\": \"pie\"}], \"scatter\": [{\"marker\": {\"colorbar\": {\"outlinewidth\": 0, \"ticks\": \"\"}}, \"type\": \"scatter\"}], \"scatter3d\": [{\"line\": {\"colorbar\": {\"outlinewidth\": 0, \"ticks\": \"\"}}, \"marker\": {\"colorbar\": {\"outlinewidth\": 0, \"ticks\": \"\"}}, \"type\": \"scatter3d\"}], \"scattercarpet\": [{\"marker\": {\"colorbar\": {\"outlinewidth\": 0, \"ticks\": \"\"}}, \"type\": \"scattercarpet\"}], \"scattergeo\": [{\"marker\": {\"colorbar\": {\"outlinewidth\": 0, \"ticks\": \"\"}}, \"type\": \"scattergeo\"}], \"scattergl\": [{\"marker\": {\"colorbar\": {\"outlinewidth\": 0, \"ticks\": \"\"}}, \"type\": \"scattergl\"}], \"scattermapbox\": [{\"marker\": {\"colorbar\": {\"outlinewidth\": 0, \"ticks\": \"\"}}, \"type\": \"scattermapbox\"}], \"scatterpolar\": [{\"marker\": {\"colorbar\": {\"outlinewidth\": 0, \"ticks\": \"\"}}, \"type\": \"scatterpolar\"}], \"scatterpolargl\": [{\"marker\": {\"colorbar\": {\"outlinewidth\": 0, \"ticks\": \"\"}}, \"type\": \"scatterpolargl\"}], \"scatterternary\": [{\"marker\": {\"colorbar\": {\"outlinewidth\": 0, \"ticks\": \"\"}}, \"type\": \"scatterternary\"}], \"surface\": [{\"colorbar\": {\"outlinewidth\": 0, \"ticks\": \"\"}, \"colorscale\": [[0.0, \"#0d0887\"], [0.1111111111111111, \"#46039f\"], [0.2222222222222222, \"#7201a8\"], [0.3333333333333333, \"#9c179e\"], [0.4444444444444444, \"#bd3786\"], [0.5555555555555556, \"#d8576b\"], [0.6666666666666666, \"#ed7953\"], [0.7777777777777778, \"#fb9f3a\"], [0.8888888888888888, \"#fdca26\"], [1.0, \"#f0f921\"]], \"type\": \"surface\"}], \"table\": [{\"cells\": {\"fill\": {\"color\": \"#EBF0F8\"}, \"line\": {\"color\": \"white\"}}, \"header\": {\"fill\": {\"color\": \"#C8D4E3\"}, \"line\": {\"color\": \"white\"}}, \"type\": \"table\"}]}, \"layout\": {\"annotationdefaults\": {\"arrowcolor\": \"#2a3f5f\", \"arrowhead\": 0, \"arrowwidth\": 1}, \"coloraxis\": {\"colorbar\": {\"outlinewidth\": 0, \"ticks\": \"\"}}, \"colorscale\": {\"diverging\": [[0, \"#8e0152\"], [0.1, \"#c51b7d\"], [0.2, \"#de77ae\"], [0.3, \"#f1b6da\"], [0.4, \"#fde0ef\"], [0.5, \"#f7f7f7\"], [0.6, \"#e6f5d0\"], [0.7, \"#b8e186\"], [0.8, \"#7fbc41\"], [0.9, \"#4d9221\"], [1, \"#276419\"]], \"sequential\": [[0.0, \"#0d0887\"], [0.1111111111111111, \"#46039f\"], [0.2222222222222222, \"#7201a8\"], [0.3333333333333333, \"#9c179e\"], [0.4444444444444444, \"#bd3786\"], [0.5555555555555556, \"#d8576b\"], [0.6666666666666666, \"#ed7953\"], [0.7777777777777778, \"#fb9f3a\"], [0.8888888888888888, \"#fdca26\"], [1.0, \"#f0f921\"]], \"sequentialminus\": [[0.0, \"#0d0887\"], [0.1111111111111111, \"#46039f\"], [0.2222222222222222, \"#7201a8\"], [0.3333333333333333, \"#9c179e\"], [0.4444444444444444, \"#bd3786\"], [0.5555555555555556, \"#d8576b\"], [0.6666666666666666, \"#ed7953\"], [0.7777777777777778, \"#fb9f3a\"], [0.8888888888888888, \"#fdca26\"], [1.0, \"#f0f921\"]]}, \"colorway\": [\"#636efa\", \"#EF553B\", \"#00cc96\", \"#ab63fa\", \"#FFA15A\", \"#19d3f3\", \"#FF6692\", \"#B6E880\", \"#FF97FF\", \"#FECB52\"], \"font\": {\"color\": \"#2a3f5f\"}, \"geo\": {\"bgcolor\": \"white\", \"lakecolor\": \"white\", \"landcolor\": \"#E5ECF6\", \"showlakes\": true, \"showland\": true, \"subunitcolor\": \"white\"}, \"hoverlabel\": {\"align\": \"left\"}, \"hovermode\": \"closest\", \"mapbox\": {\"style\": \"light\"}, \"paper_bgcolor\": \"white\", \"plot_bgcolor\": \"#E5ECF6\", \"polar\": {\"angularaxis\": {\"gridcolor\": \"white\", \"linecolor\": \"white\", \"ticks\": \"\"}, \"bgcolor\": \"#E5ECF6\", \"radialaxis\": {\"gridcolor\": \"white\", \"linecolor\": \"white\", \"ticks\": \"\"}}, \"scene\": {\"xaxis\": {\"backgroundcolor\": \"#E5ECF6\", \"gridcolor\": \"white\", \"gridwidth\": 2, \"linecolor\": \"white\", \"showbackground\": true, \"ticks\": \"\", \"zerolinecolor\": \"white\"}, \"yaxis\": {\"backgroundcolor\": \"#E5ECF6\", \"gridcolor\": \"white\", \"gridwidth\": 2, \"linecolor\": \"white\", \"showbackground\": true, \"ticks\": \"\", \"zerolinecolor\": \"white\"}, \"zaxis\": {\"backgroundcolor\": \"#E5ECF6\", \"gridcolor\": \"white\", \"gridwidth\": 2, \"linecolor\": \"white\", \"showbackground\": true, \"ticks\": \"\", \"zerolinecolor\": \"white\"}}, \"shapedefaults\": {\"line\": {\"color\": \"#2a3f5f\"}}, \"ternary\": {\"aaxis\": {\"gridcolor\": \"white\", \"linecolor\": \"white\", \"ticks\": \"\"}, \"baxis\": {\"gridcolor\": \"white\", \"linecolor\": \"white\", \"ticks\": \"\"}, \"bgcolor\": \"#E5ECF6\", \"caxis\": {\"gridcolor\": \"white\", \"linecolor\": \"white\", \"ticks\": \"\"}}, \"title\": {\"x\": 0.05}, \"xaxis\": {\"automargin\": true, \"gridcolor\": \"white\", \"linecolor\": \"white\", \"ticks\": \"\", \"title\": {\"standoff\": 15}, \"zerolinecolor\": \"white\", \"zerolinewidth\": 2}, \"yaxis\": {\"automargin\": true, \"gridcolor\": \"white\", \"linecolor\": \"white\", \"ticks\": \"\", \"title\": {\"standoff\": 15}, \"zerolinecolor\": \"white\", \"zerolinewidth\": 2}}}},\n",
              "                        {\"responsive\": true}\n",
              "                    ).then(function(){\n",
              "                            \n",
              "var gd = document.getElementById('c4c96929-c307-4fad-8fe7-58a214e64d2f');\n",
              "var x = new MutationObserver(function (mutations, observer) {{\n",
              "        var display = window.getComputedStyle(gd).display;\n",
              "        if (!display || display === 'none') {{\n",
              "            console.log([gd, 'removed!']);\n",
              "            Plotly.purge(gd);\n",
              "            observer.disconnect();\n",
              "        }}\n",
              "}});\n",
              "\n",
              "// Listen for the removal of the full notebook cells\n",
              "var notebookContainer = gd.closest('#notebook-container');\n",
              "if (notebookContainer) {{\n",
              "    x.observe(notebookContainer, {childList: true});\n",
              "}}\n",
              "\n",
              "// Listen for the clearing of the current output cell\n",
              "var outputEl = gd.closest('.output');\n",
              "if (outputEl) {{\n",
              "    x.observe(outputEl, {childList: true});\n",
              "}}\n",
              "\n",
              "                        })\n",
              "                };\n",
              "                \n",
              "            </script>\n",
              "        </div>\n",
              "</body>\n",
              "</html>"
            ]
          },
          "metadata": {
            "tags": []
          }
        }
      ]
    },
    {
      "cell_type": "code",
      "metadata": {
        "id": "ooGM5tnpvWXf",
        "colab_type": "code",
        "colab": {
          "base_uri": "https://localhost:8080/",
          "height": 283
        },
        "outputId": "19f653f6-0754-4c1c-ed47-f3e08e8eb6a0"
      },
      "source": [
        "grouped = domain_event.groupby('Event')['Domain'].apply(list)\n",
        "print(grouped)\n"
      ],
      "execution_count": null,
      "outputs": [
        {
          "output_type": "stream",
          "text": [
            "Event\n",
            "Certifications    [Coding, IoT, Security, Mobile Applications, S...\n",
            "Competitions      [Hardware, Artificial Intelligence, Mobile App...\n",
            "Courses           [Python, Java, Cloud Computing, C++, IoT, Mana...\n",
            "Expos             [Web Development, Artificial Intelligence, IoT...\n",
            "Fests             [Finance, C++, Machine Learning, Blockchain, C...\n",
            "Hackathons        [Python, Cloud Computing, C, IoT, Data Science...\n",
            "Internships       [Security, Web Development, Higher Education, ...\n",
            "Jobs              [Management, Coding, Management, JavaScript, C...\n",
            "Seminars          [Management, Software Architecture, Python, Ja...\n",
            "Talks             [Security, Other, C++, Mobile Applications, Ne...\n",
            "Trainings         [Java, Web Development, Other, Management, Fin...\n",
            "Webinars          [Other, Machine Learning, Python, IoT, Python,...\n",
            "Workshops         [Higher Education, Python, Finance, Hardware, ...\n",
            "Name: Domain, dtype: object\n"
          ],
          "name": "stdout"
        }
      ]
    },
    {
      "cell_type": "code",
      "metadata": {
        "id": "5wOWac-preCy",
        "colab_type": "code",
        "colab": {}
      },
      "source": [
        ""
      ],
      "execution_count": null,
      "outputs": []
    }
  ]
}